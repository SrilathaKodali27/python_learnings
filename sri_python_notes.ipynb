{
  "nbformat": 4,
  "nbformat_minor": 0,
  "metadata": {
    "colab": {
      "provenance": [],
      "toc_visible": true,
      "authorship_tag": "ABX9TyOvZ3qhsNCu8REZMilXkw9p",
      "include_colab_link": true
    },
    "kernelspec": {
      "name": "python3",
      "display_name": "Python 3"
    },
    "language_info": {
      "name": "python"
    }
  },
  "cells": [
    {
      "cell_type": "markdown",
      "metadata": {
        "id": "view-in-github",
        "colab_type": "text"
      },
      "source": [
        "<a href=\"https://colab.research.google.com/github/SrilathaKodali27/python_learnings/blob/main/sri_python_notes.ipynb\" target=\"_parent\"><img src=\"https://colab.research.google.com/assets/colab-badge.svg\" alt=\"Open In Colab\"/></a>"
      ]
    },
    {
      "cell_type": "markdown",
      "source": [
        "#Basics of python"
      ],
      "metadata": {
        "id": "vSuh38NvALsK"
      }
    },
    {
      "cell_type": "code",
      "source": [
        "#what is python?\n",
        "'''1.python is general purpose programming language\n",
        "   2.high-level language\n",
        "   3.oops-object oreinted programming language\n",
        "   4.dynamically typed programming language\n",
        "   5.interpretted programming language.'''\n",
        "#why we reqiure comments?\n",
        "#for the better understanding purpose\n"
      ],
      "metadata": {
        "id": "v5XsPVUy_6dz"
      },
      "execution_count": null,
      "outputs": []
    },
    {
      "cell_type": "code",
      "source": [
        "#what is statistically typed programming  language?\n",
        "'''in statistically typed programming  language we need to define data type for variables.\n",
        "  ex: java,c++.'''"
      ],
      "metadata": {
        "id": "WUOnO5uWE1qb"
      },
      "execution_count": null,
      "outputs": []
    },
    {
      "cell_type": "code",
      "execution_count": null,
      "metadata": {
        "id": "l6oF9dIt_pXp"
      },
      "outputs": [],
      "source": [
        "#what is low-level programming language?\n",
        "'''1.low-level programming language are machine friendly language\n",
        "   2.in this the code is changing to binary form  fro :-[01010101010]\n",
        "   3.more lines of code\n",
        "   4.c, c++.'''\n"
      ]
    },
    {
      "cell_type": "code",
      "source": [
        "#what is high level language?\n",
        "'''1.human friendly language\n",
        "   2.codes are not changing into binary form\n",
        "   3.low lines of code\n",
        "   4.it is like an english language.'''"
      ],
      "metadata": {
        "id": "Jetn4ivrFf5j"
      },
      "execution_count": null,
      "outputs": []
    },
    {
      "cell_type": "code",
      "source": [
        "#print \"Hello World\" in python?\n",
        "#i am using \"print()\" to display my output\n",
        "print(\"Hello World!\")\n"
      ],
      "metadata": {
        "colab": {
          "base_uri": "https://localhost:8080/"
        },
        "id": "hXqCKNbwGLw0",
        "outputId": "a669f853-01b3-48f7-cbdd-20bdc1acf1a7"
      },
      "execution_count": null,
      "outputs": [
        {
          "output_type": "stream",
          "name": "stdout",
          "text": [
            "Hello World!\n"
          ]
        }
      ]
    },
    {
      "cell_type": "markdown",
      "source": [
        "#Numerical Data Types"
      ],
      "metadata": {
        "id": "e6Oo_J_oI9JY"
      }
    },
    {
      "cell_type": "code",
      "source": [
        "#what are all numerical data types?\n",
        "#there are 3  numerical data types\n",
        "#1.Integer :- A whole number either  +ve or -ve without decimal point\n",
        "print(10)\n",
        "print(5)\n",
        "print(-2)\n",
        "#find the data type of above integer\n",
        "#i am using \"type()\" to find data type\n",
        "print(type(10))\n",
        "print(type(5))\n",
        "print(type(-2))"
      ],
      "metadata": {
        "colab": {
          "base_uri": "https://localhost:8080/"
        },
        "id": "DcBCPbUUJQoA",
        "outputId": "86657b49-ae84-4da5-9e63-0481e455f9a3"
      },
      "execution_count": null,
      "outputs": [
        {
          "output_type": "stream",
          "name": "stdout",
          "text": [
            "10\n",
            "5\n",
            "-2\n",
            "<class 'int'>\n",
            "<class 'int'>\n",
            "<class 'int'>\n"
          ]
        }
      ]
    },
    {
      "cell_type": "code",
      "source": [
        "#2.Float:- A whole number either +ve or -ve with decimal point\n",
        "print(2.0)\n",
        "print(5.326)\n",
        "#print type of above interger?\n",
        "print(type(2.0))\n",
        "print(type(-5.456))"
      ],
      "metadata": {
        "colab": {
          "base_uri": "https://localhost:8080/"
        },
        "id": "WAiPeyFMJPe4",
        "outputId": "897b77a1-5fc7-4b33-fce3-fbcf30ee7860"
      },
      "execution_count": null,
      "outputs": [
        {
          "output_type": "stream",
          "name": "stdout",
          "text": [
            "2.0\n",
            "5.326\n",
            "<class 'float'>\n",
            "<class 'float'>\n"
          ]
        }
      ]
    },
    {
      "cell_type": "code",
      "source": [
        "#3.Complex Number:- A real number with its imaginary part is known as complex Number\n",
        "print(2+4j)         #why j means python is unique i is used in physics i means iota value is route of -1 so, Guido van Rossum introduced i as iota\n",
        "print(type(2+4j))\n"
      ],
      "metadata": {
        "colab": {
          "base_uri": "https://localhost:8080/"
        },
        "id": "LvL0N77-KC22",
        "outputId": "3489d258-057a-42a3-f7dc-f179269f6b2b"
      },
      "execution_count": null,
      "outputs": [
        {
          "output_type": "stream",
          "name": "stdout",
          "text": [
            "(2+4j)\n",
            "<class 'complex'>\n"
          ]
        }
      ]
    },
    {
      "cell_type": "markdown",
      "source": [
        "#Arithmetic Operators"
      ],
      "metadata": {
        "id": "dD_49orzNDp-"
      }
    },
    {
      "cell_type": "code",
      "source": [
        "#there are 7 arithmetic Operators\n",
        "#1. addition ---> +\n",
        "print(10 + 5)\n",
        "#2. substaraction ---> -\n",
        "print(10 - 5)\n",
        "#3. multiplication ---> *\n",
        "print(10 * 5)\n",
        "#4. division ---> /\n",
        "print(10 / 5)\n",
        "#5. Modulus ---> %  --remainder of the division\n",
        "print(10 % 5)\n",
        "print(type(10 % 5))\n",
        "#6. exponential ---> ** -- to the power off\n",
        "print(2 ** 3)\n",
        "print(10 ** 5)\n",
        "print(type(10 ** 5))\n",
        "#7. Floor Division ---> //\n",
        "#it's a type of division where it ignores all the values after decimal in co-efficient\n",
        "print(10 / 3)\n",
        "print( 10 // 3)"
      ],
      "metadata": {
        "colab": {
          "base_uri": "https://localhost:8080/"
        },
        "id": "ov6aLEOENXer",
        "outputId": "284bbbde-357c-4e95-e258-606542eba512"
      },
      "execution_count": null,
      "outputs": [
        {
          "output_type": "stream",
          "name": "stdout",
          "text": [
            "15\n",
            "5\n",
            "50\n",
            "2.0\n",
            "0\n",
            "<class 'int'>\n",
            "8\n",
            "100000\n",
            "<class 'int'>\n",
            "3.3333333333333335\n",
            "3\n"
          ]
        }
      ]
    },
    {
      "cell_type": "code",
      "source": [
        "#why we we are getting default data tyoe for divison is float?\n",
        "#when you're doing division some times if we want extract,exact co-efficient you may get decimal values instead defining the data type we are getting float data type."
      ],
      "metadata": {
        "id": "4Tby0r7IOdCd"
      },
      "execution_count": null,
      "outputs": []
    },
    {
      "cell_type": "markdown",
      "source": [
        "#Round()\n"
      ],
      "metadata": {
        "id": "X4VaNxcRSFrx"
      }
    },
    {
      "cell_type": "code",
      "source": [
        "#what is round()?\n",
        "#rounding to the nearest values\n",
        "print(round(10.235))\n",
        "#when the values are below 0.5 then it will give the base value\n",
        "print(2.536)\n",
        "print(round(2.536))"
      ],
      "metadata": {
        "colab": {
          "base_uri": "https://localhost:8080/"
        },
        "id": "nRBQPP2_SK7W",
        "outputId": "376eeed8-d708-4dd5-fde2-a15acc3bad52"
      },
      "execution_count": null,
      "outputs": [
        {
          "output_type": "stream",
          "name": "stdout",
          "text": [
            "10\n",
            "2.536\n",
            "3\n"
          ]
        }
      ]
    },
    {
      "cell_type": "code",
      "source": [
        "#print specific decimal \"ndigits\" from the value 2.53476?\n",
        "#expected output :- 2.53\n",
        "#use round()---> round(number,ndigits)\n",
        "print(round(2.53476,2))"
      ],
      "metadata": {
        "colab": {
          "base_uri": "https://localhost:8080/"
        },
        "id": "zJE9wQhqSRJY",
        "outputId": "c06e6739-7f34-47ca-f1ff-303514006fd5"
      },
      "execution_count": null,
      "outputs": [
        {
          "output_type": "stream",
          "name": "stdout",
          "text": [
            "2.53\n"
          ]
        }
      ]
    },
    {
      "cell_type": "code",
      "source": [
        "#what is floor value and what is ceiling values?\n",
        "#floor value :- these are the values before the decimal numbers\n",
        "#ceiling values :- these are the upcoming values or nearest values"
      ],
      "metadata": {
        "id": "UbP9g3arUKwK"
      },
      "execution_count": null,
      "outputs": []
    },
    {
      "cell_type": "code",
      "source": [
        "#Types of errors\n",
        "#variables\n",
        "#input()\n",
        "#escape characters"
      ],
      "metadata": {
        "id": "RvRb7O_AUniX"
      },
      "execution_count": null,
      "outputs": []
    },
    {
      "cell_type": "markdown",
      "source": [
        "#Types of errors"
      ],
      "metadata": {
        "id": "WhZhYOe4NR5B"
      }
    },
    {
      "cell_type": "code",
      "source": [
        "# types of errrors  :- 2\n",
        "#1. Syntax error\n",
        "#2. logical error\n"
      ],
      "metadata": {
        "id": "-TPKWfpwNU7_"
      },
      "execution_count": null,
      "outputs": []
    },
    {
      "cell_type": "code",
      "source": [
        "#1.syntax error:- breaking the rules of programming language can raise the syntax error\n",
        "print(2 ** 3)\n"
      ],
      "metadata": {
        "colab": {
          "base_uri": "https://localhost:8080/"
        },
        "id": "-IeGuT_pOKQe",
        "outputId": "524c913f-ebc7-4c7e-9cb1-c5b65bf9b486"
      },
      "execution_count": null,
      "outputs": [
        {
          "output_type": "stream",
          "name": "stdout",
          "text": [
            "8\n"
          ]
        }
      ]
    },
    {
      "cell_type": "code",
      "source": [
        "#2. logical error:- excepts syntax error all the errors are called logical errors\n",
        "#ex:- name error, recurssive error, attribute error, indentation error."
      ],
      "metadata": {
        "id": "rwrMtlLiPEEA"
      },
      "execution_count": null,
      "outputs": []
    },
    {
      "cell_type": "markdown",
      "source": [
        "#Variables"
      ],
      "metadata": {
        "id": "jEVBYim2Pz_I"
      }
    },
    {
      "cell_type": "code",
      "source": [
        "#what is variables?  :- variables are nothing but containers where we can store valuable information and reuse it\n",
        "#what is purpose of variables? :-  is to reduce the memory size\n",
        "#how to create the variables? :-\n",
        "x = 40\n",
        "son_age = x/2\n",
        "print(son_age)\n",
        "#how we are going to access the variables?\n",
        "#print()"
      ],
      "metadata": {
        "colab": {
          "base_uri": "https://localhost:8080/"
        },
        "id": "OT07aJKCQFRu",
        "outputId": "e684de56-b704-43db-c30e-f5456c9a84cd"
      },
      "execution_count": null,
      "outputs": [
        {
          "output_type": "stream",
          "name": "stdout",
          "text": [
            "20.0\n"
          ]
        }
      ]
    },
    {
      "cell_type": "code",
      "source": [
        "#python is a interpreted language? :- means it will execute line by line\n",
        "x = 10\n",
        "y = 5\n",
        "x = 60\n",
        "y = 30\n",
        "print(x + y)\n",
        "\n",
        "#take two variables of integers and apply all the arthimetic operators?\n",
        "a = 5\n",
        "b = 7\n",
        "print(a + b)\n",
        "print(a - b)\n",
        "print(a * b)\n",
        "print(a % b)\n",
        "print(a / b)\n",
        "print(a ** b)\n",
        "print(a // b)\n"
      ],
      "metadata": {
        "colab": {
          "base_uri": "https://localhost:8080/"
        },
        "id": "8xP387_gRxcT",
        "outputId": "7effaa89-4d10-4a78-e6df-dbd6b1727a09"
      },
      "execution_count": null,
      "outputs": [
        {
          "output_type": "stream",
          "name": "stdout",
          "text": [
            "90\n",
            "12\n",
            "-2\n",
            "35\n",
            "5\n",
            "0.7142857142857143\n",
            "78125\n",
            "0\n"
          ]
        }
      ]
    },
    {
      "cell_type": "code",
      "source": [
        "#python is dynamically typed programming language? :- without defining data types for varibles\n",
        "x = 10\n",
        "print(type(x))\n",
        "y = \"hello world\"\n",
        "print(type(y))\n"
      ],
      "metadata": {
        "colab": {
          "base_uri": "https://localhost:8080/"
        },
        "id": "7_YMK3zsSIxO",
        "outputId": "5d66fa3b-2a83-4383-fb62-09611301010c"
      },
      "execution_count": null,
      "outputs": [
        {
          "output_type": "stream",
          "name": "stdout",
          "text": [
            "<class 'int'>\n",
            "<class 'str'>\n"
          ]
        }
      ]
    },
    {
      "cell_type": "code",
      "source": [
        "#Rules of creating variables.\n",
        "#1. always start creating the variables with alphabets.\n",
        "'''a = \"hello world\"\n",
        "print(a)'''\n",
        "\n",
        "#2. dont start creating variables with numbers\n",
        "#2=\"data\"\n",
        "# print(2)\n",
        "\n",
        "#3.if you follow rule 1 and 2 you can start creating variables with alphabets inbetween you inclube numbers.\n",
        "\n",
        "#4. dont give spaces inbetween the variables\n",
        "#ex: son age = 20\n",
        "# print(son age)\n",
        "\n",
        "#5. dont use special characters.---->$,%,#,@\n",
        "# ex:- @ = 10\n",
        "# print(@)\n",
        "\n",
        "#6. you can start creating variables with (_) special character\n",
        "_age = 20\n",
        "print(_age)\n",
        "\n",
        "#7. always prefer variables in lowercase"
      ],
      "metadata": {
        "colab": {
          "base_uri": "https://localhost:8080/"
        },
        "id": "8648n38sSu6J",
        "outputId": "11324718-d7e5-4299-a1fb-16f8bcc5b85a"
      },
      "execution_count": null,
      "outputs": [
        {
          "output_type": "stream",
          "name": "stdout",
          "text": [
            "20\n"
          ]
        }
      ]
    },
    {
      "cell_type": "code",
      "source": [
        "#python is a case sensitive language?\n",
        "'''ex: x = \"hello world\"\n",
        "   print(X)'''"
      ],
      "metadata": {
        "id": "EGIqjvfoWMaC"
      },
      "execution_count": null,
      "outputs": []
    },
    {
      "cell_type": "code",
      "source": [
        "#!. Assign multiple values to the multiple variables and print in separate line\n",
        "a,b,c = 10,20,30\n",
        "print(a)\n",
        "print(b)\n",
        "print(c)\n",
        "#use \"Sep=\\n\" operator to print values in separate line\n",
        "print(a,b,c, sep=\"\\n\")"
      ],
      "metadata": {
        "colab": {
          "base_uri": "https://localhost:8080/"
        },
        "id": "bFtm0y6aXQ-z",
        "outputId": "de4da267-b530-497e-a442-c24cf7755771"
      },
      "execution_count": null,
      "outputs": [
        {
          "output_type": "stream",
          "name": "stdout",
          "text": [
            "10\n",
            "20\n",
            "30\n",
            "10\n",
            "20\n",
            "30\n"
          ]
        }
      ]
    },
    {
      "cell_type": "code",
      "source": [
        "#assign same value to the multiple variables and print in separate line\n",
        "a = b = c = 20\n",
        "print(a,b,c, sep=\"\\n\")\n",
        "\n",
        "#0r\n",
        "a = 20\n",
        "b = 20\n",
        "c = 20\n",
        "print(a,b,c, sep=\"\\n\")"
      ],
      "metadata": {
        "colab": {
          "base_uri": "https://localhost:8080/"
        },
        "id": "I8P46TOYYC2p",
        "outputId": "b346dccd-c9b9-43ef-eb63-b441409c8a32"
      },
      "execution_count": null,
      "outputs": [
        {
          "output_type": "stream",
          "name": "stdout",
          "text": [
            "20\n",
            "20\n",
            "20\n",
            "20\n",
            "20\n",
            "20\n"
          ]
        }
      ]
    },
    {
      "cell_type": "code",
      "source": [
        "#Python Identifier is the name we give to identify a variable, function, class, module or other object."
      ],
      "metadata": {
        "id": "d-q-Cxq5ZTAn"
      },
      "execution_count": null,
      "outputs": []
    },
    {
      "cell_type": "markdown",
      "source": [
        "#Input()"
      ],
      "metadata": {
        "id": "GrxyxyYcY0a1"
      }
    },
    {
      "cell_type": "code",
      "source": [
        "#what is input() :- it intakes every information/data/value/ given by user\n",
        "\n",
        "#where we have to use this input()? :- when the user is giving multiple informations/data/value to the same variables then we have to use input().\n",
        "\n",
        "#why we are using input()?  or what is the purpose of using input ? :- to maintain the memory"
      ],
      "metadata": {
        "id": "6fj4ICbvY3lI"
      },
      "execution_count": null,
      "outputs": []
    },
    {
      "cell_type": "code",
      "source": [
        "# How to create input() and how to access the input()\n",
        "#we are using input function along with a variable name to create input()\n",
        "#we are using print() to access th input()\n",
        "a = input()\n",
        "print(a)\n",
        "\n",
        "#give the message inside the input function.\n",
        "a=input(\"Enter the message \")\n",
        "print(a)\n",
        "#the default data type for input() is string.\n",
        "#why default data type f0r input() is string?\n",
        "'''user may give different types of information/data/value the input function has built in such a way so that it can take any kind of information\n",
        "    so that's why default data type is string '''\n"
      ],
      "metadata": {
        "colab": {
          "base_uri": "https://localhost:8080/"
        },
        "id": "lgLxZTV8bmOS",
        "outputId": "406a5797-28e3-4d6a-9dcf-bbae70f03bdb"
      },
      "execution_count": null,
      "outputs": [
        {
          "output_type": "stream",
          "name": "stdout",
          "text": [
            "7\n",
            "7\n",
            "Enter the message 56\n",
            "56\n"
          ]
        }
      ]
    },
    {
      "cell_type": "markdown",
      "source": [
        "#Strings"
      ],
      "metadata": {
        "id": "NYxWEOvld6--"
      }
    },
    {
      "cell_type": "code",
      "source": [
        "#what is strings? :-  a collection of multiple characters that are written inside double quotes or single quotes ():- parenthesis\n",
        "print(\"Hello world\")\n",
        "\n",
        "#how can you denote or write  a multiline string?\n",
        "print(\"\"\" hi\n",
        "i am using python multiline string\n",
        "this is my 1st execution\"\"\")"
      ],
      "metadata": {
        "colab": {
          "base_uri": "https://localhost:8080/"
        },
        "id": "_UcbFxbScJ1l",
        "outputId": "f49085b4-7acb-4dcb-ce10-923ffdc2f69b"
      },
      "execution_count": null,
      "outputs": [
        {
          "output_type": "stream",
          "name": "stdout",
          "text": [
            "Hello world\n",
            " hi \n",
            "i am using python multiline string\n",
            "this is my 1st execution\n"
          ]
        }
      ]
    },
    {
      "cell_type": "code",
      "source": [
        "#string is collection of multiple characters, Each  character in string can be accessiable\n",
        "#How can we access each character in a string?\n",
        "#we are using \"Indexing\" and \"Slicing Operator\" to access the specific characters in a  string"
      ],
      "metadata": {
        "id": "RofNDrGHhhE2"
      },
      "execution_count": null,
      "outputs": []
    },
    {
      "cell_type": "code",
      "source": [
        "#Indexing:- positional number of each character in a string\n",
        "#these indexing can be starts with zero\n",
        "#Slicing Operator : ----> [] ---> it is use to break the string. also used to retrive substring from the main string."
      ],
      "metadata": {
        "id": "QTATekslivNI"
      },
      "execution_count": null,
      "outputs": []
    },
    {
      "cell_type": "code",
      "source": [
        "#what is substring?\n",
        "#is nothing but a part of main string\n",
        "\n",
        "x = \"Hello world\"\n",
        "print(x)"
      ],
      "metadata": {
        "colab": {
          "base_uri": "https://localhost:8080/"
        },
        "id": "2ZZnD0rlivvw",
        "outputId": "d633092c-d0c9-4591-9da6-ee0c84abe575"
      },
      "execution_count": null,
      "outputs": [
        {
          "output_type": "stream",
          "name": "stdout",
          "text": [
            "Hello world\n"
          ]
        }
      ]
    },
    {
      "cell_type": "code",
      "source": [
        "#how to find the how many indexs and how to find the string?\n",
        "x = \"Hello World\"\n",
        "#to find the length we use len function\n",
        "#length can be strt from 1\n",
        "print(len(x))\n",
        "#if we want to find total index substract -1\n",
        "print(len(x)-1)"
      ],
      "metadata": {
        "colab": {
          "base_uri": "https://localhost:8080/"
        },
        "id": "P2-0jSa7iwLH",
        "outputId": "0d1d3e76-08fc-4318-b38b-45fb7dc8eb47"
      },
      "execution_count": null,
      "outputs": [
        {
          "output_type": "stream",
          "name": "stdout",
          "text": [
            "11\n",
            "10\n"
          ]
        }
      ]
    },
    {
      "cell_type": "code",
      "source": [
        "#[start_index value#]\n",
        "x = \"Hello World\"\n",
        "print(x[6])\n",
        "print(x[8])"
      ],
      "metadata": {
        "colab": {
          "base_uri": "https://localhost:8080/"
        },
        "id": "OLnP8zrLk499",
        "outputId": "275ae064-6211-4954-8fef-1e08ae31d66e"
      },
      "execution_count": null,
      "outputs": [
        {
          "output_type": "stream",
          "name": "stdout",
          "text": [
            "W\n",
            "r\n"
          ]
        }
      ]
    },
    {
      "cell_type": "code",
      "source": [
        "#if i want range of characters for example for example \"llo wo\" from the above string?\n",
        "#[start_index value:end_indexvalue] : = collans\n",
        "x=\"Hello World\"\n",
        "print(x[2:8])"
      ],
      "metadata": {
        "colab": {
          "base_uri": "https://localhost:8080/"
        },
        "id": "Aqet6Zg3lSN2",
        "outputId": "caeab820-42a7-42cd-862b-9ff4084028e0"
      },
      "execution_count": null,
      "outputs": [
        {
          "output_type": "stream",
          "name": "stdout",
          "text": [
            "llo Wo\n"
          ]
        }
      ]
    },
    {
      "cell_type": "markdown",
      "source": [
        "#13-07-2024"
      ],
      "metadata": {
        "id": "9vUc_qm7vOS6"
      }
    },
    {
      "cell_type": "code",
      "source": [
        "#print the characters of the even position for the given string \"Hello World\"\n",
        "#Hl0wrd\n",
        "a = \"Hello World\"\n",
        "print(a[0:12:2])\n",
        "#3\n",
        "print(a[0:12:3])"
      ],
      "metadata": {
        "colab": {
          "base_uri": "https://localhost:8080/"
        },
        "id": "xKUnJteIb8Ys",
        "outputId": "8667a321-9404-4d4a-dd6a-5ec0a3eb0f43"
      },
      "execution_count": null,
      "outputs": [
        {
          "output_type": "stream",
          "name": "stdout",
          "text": [
            "HloWrd\n",
            "HlWl\n"
          ]
        }
      ]
    },
    {
      "cell_type": "code",
      "source": [
        "#print odd index position characters?\n",
        "print(a[1:12:2])"
      ],
      "metadata": {
        "id": "wUVzP9Qab8I-",
        "colab": {
          "base_uri": "https://localhost:8080/"
        },
        "outputId": "4b9ed5b7-4838-47ab-d485-a1f790f649f5"
      },
      "execution_count": null,
      "outputs": [
        {
          "output_type": "stream",
          "name": "stdout",
          "text": [
            "el ol\n"
          ]
        }
      ]
    },
    {
      "cell_type": "code",
      "source": [
        "#what is default indexing?\n",
        "'''during slicing operation if you won't specify the index positional numbers then python can\n",
        "take 0 as the start position number and length measure as the end position number'''"
      ],
      "metadata": {
        "id": "Ogb5zLP_nDNf"
      },
      "execution_count": null,
      "outputs": []
    },
    {
      "cell_type": "code",
      "source": [
        "print(a[1::2]) #--> odd position characters\n",
        "print(a[::1])#--> overall string\n",
        "print(a[::2])#--> even position characters\n",
        "#default step value can be one"
      ],
      "metadata": {
        "colab": {
          "base_uri": "https://localhost:8080/"
        },
        "id": "h3z6odgQxyC1",
        "outputId": "e725905b-ba24-41e1-83ea-546b0e7ba9f4"
      },
      "execution_count": null,
      "outputs": [
        {
          "output_type": "stream",
          "name": "stdout",
          "text": [
            "e\n",
            "Hello World\n",
            "HloWrd\n"
          ]
        }
      ]
    },
    {
      "cell_type": "markdown",
      "source": [
        "#Negative Indexing"
      ],
      "metadata": {
        "id": "Z0mPO-YuymZW"
      }
    },
    {
      "cell_type": "code",
      "source": [
        "# what is negative indexing?\n",
        "# indexing is the positional characters from right to left(reverse direction) by using -ve numbers\n",
        "# -ve indexing can be starts from -1\n",
        "# by using -ve indexing  we can access the characters in reverse direction\n",
        "s = \"Hello World!\"\n",
        "#[start]\n",
        "#print the w by using -ve indexing?\n",
        "print(s[-6])\n"
      ],
      "metadata": {
        "colab": {
          "base_uri": "https://localhost:8080/"
        },
        "id": "HAHtdmBcxxze",
        "outputId": "fd7a0519-3707-4743-ba45-a3053dd32805"
      },
      "execution_count": null,
      "outputs": [
        {
          "output_type": "stream",
          "name": "stdout",
          "text": [
            "W\n"
          ]
        }
      ]
    },
    {
      "cell_type": "code",
      "source": [
        "#print range of charaters in -ve  indexing?\n",
        "#world\n",
        "print(s[-6:-1])"
      ],
      "metadata": {
        "colab": {
          "base_uri": "https://localhost:8080/"
        },
        "id": "_n3sLB1kzgET",
        "outputId": "6e0496cb-69f9-4c58-fe5e-ec969adea54d"
      },
      "execution_count": null,
      "outputs": [
        {
          "output_type": "stream",
          "name": "stdout",
          "text": [
            "World\n"
          ]
        }
      ]
    },
    {
      "cell_type": "code",
      "source": [
        "#reverse a string \"hello word!\"\n",
        "#!drow olleh\n",
        "#[start:end:step]\n",
        "print(s[-1:-13:-1])"
      ],
      "metadata": {
        "colab": {
          "base_uri": "https://localhost:8080/"
        },
        "id": "oV2ALIA_8PS0",
        "outputId": "072dda07-69ab-4bc4-98b5-95cad0883650"
      },
      "execution_count": null,
      "outputs": [
        {
          "output_type": "stream",
          "name": "stdout",
          "text": [
            "!dlroW olleH\n"
          ]
        }
      ]
    },
    {
      "cell_type": "code",
      "source": [
        "\n",
        "print(a[::-1])\n"
      ],
      "metadata": {
        "colab": {
          "base_uri": "https://localhost:8080/"
        },
        "id": "YACznDmW1Yyh",
        "outputId": "fecc2066-ce2a-4b7c-9a8d-8c16d74f6aea"
      },
      "execution_count": null,
      "outputs": [
        {
          "output_type": "stream",
          "name": "stdout",
          "text": [
            "madam\n"
          ]
        }
      ]
    },
    {
      "cell_type": "code",
      "source": [
        "#check wheater the string is palindrome or not?\n",
        "a = input(\"enter your string: \")\n",
        "print(a[::-1])"
      ],
      "metadata": {
        "id": "rs1NcCfb17iZ",
        "colab": {
          "base_uri": "https://localhost:8080/"
        },
        "outputId": "9e2801a4-ab66-4df1-ae9e-52f6312da670"
      },
      "execution_count": null,
      "outputs": [
        {
          "output_type": "stream",
          "name": "stdout",
          "text": [
            "enter your string: madam\n",
            "madam\n"
          ]
        }
      ]
    },
    {
      "cell_type": "markdown",
      "source": [
        "#String Methods"
      ],
      "metadata": {
        "id": "GYZ3BE2M2Krc"
      }
    },
    {
      "cell_type": "code",
      "source": [
        "#what are all methods applicable on given string?\n",
        "# use dir() it will tells you what are all the methods that can applicable for given string  ---> dir = direct\n",
        "#what is dir()?\n",
        "# it returns what are all the methods applicable  on given string\n",
        "\n",
        "a = \"hello World\"\n",
        "#to find methods use dir()\n",
        "print(dir(a))"
      ],
      "metadata": {
        "colab": {
          "base_uri": "https://localhost:8080/"
        },
        "id": "X7Dny0TK2Ozd",
        "outputId": "ac832471-3220-40ab-b7ad-22556b288e44"
      },
      "execution_count": null,
      "outputs": [
        {
          "output_type": "stream",
          "name": "stdout",
          "text": [
            "['__add__', '__class__', '__contains__', '__delattr__', '__dir__', '__doc__', '__eq__', '__format__', '__ge__', '__getattribute__', '__getitem__', '__getnewargs__', '__gt__', '__hash__', '__init__', '__init_subclass__', '__iter__', '__le__', '__len__', '__lt__', '__mod__', '__mul__', '__ne__', '__new__', '__reduce__', '__reduce_ex__', '__repr__', '__rmod__', '__rmul__', '__setattr__', '__sizeof__', '__str__', '__subclasshook__', 'capitalize', 'casefold', 'center', 'count', 'encode', 'endswith', 'expandtabs', 'find', 'format', 'format_map', 'index', 'isalnum', 'isalpha', 'isascii', 'isdecimal', 'isdigit', 'isidentifier', 'islower', 'isnumeric', 'isprintable', 'isspace', 'istitle', 'isupper', 'join', 'ljust', 'lower', 'lstrip', 'maketrans', 'partition', 'removeprefix', 'removesuffix', 'replace', 'rfind', 'rindex', 'rjust', 'rpartition', 'rsplit', 'rstrip', 'split', 'splitlines', 'startswith', 'strip', 'swapcase', 'title', 'translate', 'upper', 'zfill']\n"
          ]
        }
      ]
    },
    {
      "cell_type": "code",
      "source": [
        "from re import template\n",
        "#important string methods\n",
        "# 1. capitalize\n",
        "print(a.capitalize())\n",
        "\n",
        "# 2. upper\n",
        "print(a.upper())\n",
        "\n",
        "# 3. lower\n",
        "print(a.lower())\n",
        "\n",
        "# 4. title\n",
        "print(a.title())\n",
        "\n",
        "#5. swapcase\n",
        "a = \"Hello\"\n",
        "b = \"world\"\n",
        "temp = a\n",
        "a = b\n",
        "b = temp\n",
        "print(a , b)"
      ],
      "metadata": {
        "colab": {
          "base_uri": "https://localhost:8080/"
        },
        "id": "r5M59f8t3L_r",
        "outputId": "bdc811af-465c-4834-9f8b-9080c5f7d1d1"
      },
      "execution_count": null,
      "outputs": [
        {
          "output_type": "stream",
          "name": "stdout",
          "text": [
            "Iamsrilatha\n",
            "IAMSRILATHA\n",
            "iamsrilatha\n",
            "Iamsrilatha\n",
            "world Hello\n"
          ]
        }
      ]
    },
    {
      "cell_type": "code",
      "source": [
        "a = \"  helo world   \"\n",
        "print(a.strip())\n",
        "print(a.lstrip())\n",
        "print(a.rstrip())"
      ],
      "metadata": {
        "id": "zvUNT29z5XV3",
        "colab": {
          "base_uri": "https://localhost:8080/"
        },
        "outputId": "de42c0f7-31d6-40b6-bfa2-8f9be3b60f23"
      },
      "execution_count": null,
      "outputs": [
        {
          "output_type": "stream",
          "name": "stdout",
          "text": [
            "helo world\n",
            "helo world   \n",
            "  helo world\n"
          ]
        }
      ]
    },
    {
      "cell_type": "code",
      "source": [
        "a = \"hello good morning\"\n",
        "print(a.replace(\"morning\",\"afternoon\"))"
      ],
      "metadata": {
        "colab": {
          "base_uri": "https://localhost:8080/"
        },
        "id": "XW_5zi8U84On",
        "outputId": "a73f67e4-0158-4b31-903d-55f8afc018c7"
      },
      "execution_count": null,
      "outputs": [
        {
          "output_type": "stream",
          "name": "stdout",
          "text": [
            "hello good afternoon\n"
          ]
        }
      ]
    },
    {
      "cell_type": "code",
      "source": [
        "#find\n",
        "#zfill\n",
        "#isalpha ---> if we give spaces in string it will give false as an output otherwise it is true."
      ],
      "metadata": {
        "id": "kYb0isLp5XEu"
      },
      "execution_count": null,
      "outputs": []
    },
    {
      "cell_type": "code",
      "source": [
        "#find\n",
        "a=\"Hello\"\n",
        "print(a.find(\"o\"))\n",
        "b=\"srilatha\"\n",
        "print(b.find(\"tha\"))"
      ],
      "metadata": {
        "colab": {
          "base_uri": "https://localhost:8080/"
        },
        "id": "bqCElWRA8roa",
        "outputId": "167d2200-7eb0-41c5-f4a1-f0f1e8e8ca52"
      },
      "execution_count": null,
      "outputs": [
        {
          "output_type": "stream",
          "name": "stdout",
          "text": [
            "4\n",
            "5\n"
          ]
        }
      ]
    },
    {
      "cell_type": "code",
      "source": [
        "#isalpha\n",
        "a = \"iamsrilatha\"\n",
        "print(a.isalpha())\n",
        "\n",
        "b = \"i am a good girl\"\n",
        "print(b.isalpha())"
      ],
      "metadata": {
        "colab": {
          "base_uri": "https://localhost:8080/"
        },
        "id": "1yiFk5Ll6S7E",
        "outputId": "4b03720b-fae8-4051-e98f-e4c76046cfe1"
      },
      "execution_count": null,
      "outputs": [
        {
          "output_type": "stream",
          "name": "stdout",
          "text": [
            "True\n",
            "False\n"
          ]
        }
      ]
    },
    {
      "cell_type": "code",
      "source": [
        "b = \"123456\"\n",
        "print(b.isalnum())"
      ],
      "metadata": {
        "colab": {
          "base_uri": "https://localhost:8080/"
        },
        "id": "gJFRUlbU9DpB",
        "outputId": "871caaf3-6c1a-4c73-d05c-1c5fbe88c641"
      },
      "execution_count": null,
      "outputs": [
        {
          "output_type": "stream",
          "name": "stdout",
          "text": [
            "True\n"
          ]
        }
      ]
    },
    {
      "cell_type": "markdown",
      "source": [
        "#String Formating Methods"
      ],
      "metadata": {
        "id": "AYU6jcQ86uHm"
      }
    },
    {
      "cell_type": "code",
      "source": [
        "#what is string formatting methods?\n",
        "#it is deffined as formatting method can takes an argument and place it over a placeholder{}.\n",
        "#there can be 3 types\n",
        "\n",
        "age = 10\n",
        "my = \"my age is\"\n",
        "print(my,age)\n"
      ],
      "metadata": {
        "colab": {
          "base_uri": "https://localhost:8080/"
        },
        "id": "6EGm5B086zvt",
        "outputId": "6e64505f-610a-4bf8-dc33-89d99a82d4d5"
      },
      "execution_count": null,
      "outputs": [
        {
          "output_type": "stream",
          "name": "stdout",
          "text": [
            "my age is 10\n"
          ]
        }
      ]
    },
    {
      "cell_type": "code",
      "source": [
        "#string concatination\n",
        "a = \"hello\"\n",
        "b = \"world\"\n",
        "print(a + \" \"+ b)"
      ],
      "metadata": {
        "colab": {
          "base_uri": "https://localhost:8080/"
        },
        "id": "mb7rX_vZ-l2N",
        "outputId": "a2ebff95-56d7-44c5-cbf6-1ecc1d0a49b7"
      },
      "execution_count": null,
      "outputs": [
        {
          "output_type": "stream",
          "name": "stdout",
          "text": [
            "hello world\n"
          ]
        }
      ]
    },
    {
      "cell_type": "code",
      "source": [
        "#1sr string method.print formatting method\\\n",
        "age = 10\n",
        "my_age =\"im am {} years old.\"\n",
        "print(my_age.format(10))"
      ],
      "metadata": {
        "colab": {
          "base_uri": "https://localhost:8080/"
        },
        "id": "6Aa1mfY3-5CR",
        "outputId": "8c16d100-575d-4fee-b39e-a3a94f9540fa"
      },
      "execution_count": null,
      "outputs": [
        {
          "output_type": "stream",
          "name": "stdout",
          "text": [
            "im am 10 years old.\n"
          ]
        }
      ]
    },
    {
      "cell_type": "code",
      "source": [
        "#2nd string format method using format at end of the string\n",
        "age = 10\n",
        "my_age = \"i am {} years old.\".format(10)\n",
        "print(my_age)"
      ],
      "metadata": {
        "colab": {
          "base_uri": "https://localhost:8080/"
        },
        "id": "-vm4hAXj-5aw",
        "outputId": "c3cf8882-b59d-467c-b2a6-83519c1656fa"
      },
      "execution_count": null,
      "outputs": [
        {
          "output_type": "stream",
          "name": "stdout",
          "text": [
            "i am 10 years old.\n"
          ]
        }
      ]
    },
    {
      "cell_type": "code",
      "source": [
        "#3rd f'string format method':\n",
        "age = 10\n",
        "my_age = f'i am {age} years old'\n",
        "print(my_age)"
      ],
      "metadata": {
        "colab": {
          "base_uri": "https://localhost:8080/"
        },
        "id": "KkhdpQib_QYs",
        "outputId": "89f04b24-fa58-470a-dc15-59bdd2c034b0"
      },
      "execution_count": null,
      "outputs": [
        {
          "output_type": "stream",
          "name": "stdout",
          "text": [
            "i am 10 years old\n"
          ]
        }
      ]
    },
    {
      "cell_type": "code",
      "source": [
        "#method 1\n",
        "item_name = \"Product A\"\n",
        "quantity = 10\n",
        "price_each = 99.9\n",
        "Notification = \"your order for {} has confirmed at an price of {},and quatity of {}, placed successfully.\"\n",
        "print(Notification.format(item_name,price_each*quantity,quantity))"
      ],
      "metadata": {
        "colab": {
          "base_uri": "https://localhost:8080/"
        },
        "id": "W4G_KbNV_qGY",
        "outputId": "83c8cb57-9ae6-47c8-aad4-10efd0c0de20"
      },
      "execution_count": null,
      "outputs": [
        {
          "output_type": "stream",
          "name": "stdout",
          "text": [
            "your order for Product A has confirmed at an price of 999.0,and quatity of 10, placed successfully.\n"
          ]
        }
      ]
    },
    {
      "cell_type": "code",
      "source": [
        "#method 2\n",
        "item_name = \"Product A\"\n",
        "quantity = 10\n",
        "price_each = 99.9\n",
        "Notification = \"your order for {} has confirmed at an price of {},and quatity of {}, placed successfully.\".format(item_name,price_each*quantity,quantity)\n",
        "print(Notification)\n",
        "\n"
      ],
      "metadata": {
        "colab": {
          "base_uri": "https://localhost:8080/"
        },
        "id": "Q1YxRv7g_qhc",
        "outputId": "a49f0e24-ab10-41a9-a329-46d53129d269"
      },
      "execution_count": null,
      "outputs": [
        {
          "output_type": "stream",
          "name": "stdout",
          "text": [
            "your order for Product A has confirmed at an price of 999.0,and quatity of 10, placed successfully.\n"
          ]
        }
      ]
    },
    {
      "cell_type": "code",
      "source": [
        "#method 3\n",
        "item_name = \"Product A\"\n",
        "quantity = 10\n",
        "price_each = 99.9\n",
        "price = price_each*quantity\n",
        "Notification = f'your order for {item_name} has confirmed at an price of {price},and quatity of {10}, placed successfully.'\n",
        "print(Notification)\n",
        "\n"
      ],
      "metadata": {
        "colab": {
          "base_uri": "https://localhost:8080/"
        },
        "id": "sfHiHLFXB7sU",
        "outputId": "7122fdd5-5bd3-4965-92ef-097eb4492c15"
      },
      "execution_count": null,
      "outputs": [
        {
          "output_type": "stream",
          "name": "stdout",
          "text": [
            "your order for Product A has confirmed at an price of 999.0,and quatity of 10, placed successfully.\n"
          ]
        }
      ]
    },
    {
      "cell_type": "markdown",
      "source": [
        "**Escape Charaters**"
      ],
      "metadata": {
        "id": "crMo-rY1EE7U"
      }
    },
    {
      "cell_type": "code",
      "source": [
        "#what is escape characters?\n",
        "#if you want to print illegal characters in a string we have to use escape characters\n",
        "#---> use backward slach \"\\\" before of illegal character next at the end also use \"\\\" before illegal characters"
      ],
      "metadata": {
        "id": "KSx33Yi9EgEG"
      },
      "execution_count": null,
      "outputs": []
    },
    {
      "cell_type": "code",
      "source": [
        "a = \"Dwayan \\\"The Rock\\\" johnson\"\n",
        "print(a)"
      ],
      "metadata": {
        "colab": {
          "base_uri": "https://localhost:8080/"
        },
        "id": "hb9jevpyE0Br",
        "outputId": "8b578fdc-e8b8-41b3-c938-8342ac66ce47"
      },
      "execution_count": null,
      "outputs": [
        {
          "output_type": "stream",
          "name": "stdout",
          "text": [
            "Dwayan \"The Rock\" johnson\n"
          ]
        }
      ]
    },
    {
      "cell_type": "code",
      "source": [
        "a=\"srilatha\"\n",
        "print(a[0:8:2])"
      ],
      "metadata": {
        "colab": {
          "base_uri": "https://localhost:8080/"
        },
        "id": "6Z6MmeHZsXYn",
        "outputId": "6a80f3a2-93a1-4e16-e7a7-e58e333871e0"
      },
      "execution_count": null,
      "outputs": [
        {
          "output_type": "stream",
          "name": "stdout",
          "text": [
            "siah\n"
          ]
        }
      ]
    },
    {
      "cell_type": "markdown",
      "source": [
        "#Loops\n"
      ],
      "metadata": {
        "id": "83796g69qEGu"
      }
    },
    {
      "cell_type": "code",
      "source": [
        "# why we use loops?\n",
        "#we use loops to avoid duplicate codes\n",
        "\n",
        "\n",
        "#how many types of codes we are having in python?\n",
        "#1.WET code                           2.DRY code\n",
        "# W--->Write                          # D--->dont\n",
        "# E-->Everything                      # R--->repeat\n",
        "# T--->Twice                          # Y---->yourself"
      ],
      "metadata": {
        "id": "RWLiUPagsXVI"
      },
      "execution_count": null,
      "outputs": []
    },
    {
      "cell_type": "code",
      "source": [
        "#what are all the loops in python?    #loops will used in iterators\n",
        "#1 while\n",
        "#2 for"
      ],
      "metadata": {
        "id": "-2dtSj5msG2L"
      },
      "execution_count": null,
      "outputs": []
    },
    {
      "cell_type": "code",
      "source": [
        "#while loop :-"
      ],
      "metadata": {
        "id": "Fe0H8nCXtC23"
      },
      "execution_count": null,
      "outputs": []
    },
    {
      "cell_type": "code",
      "source": [
        "#write a program to run a lift?\n",
        "target =int(input(\"enter your floor: \"))\n",
        "ground_floor = 0\n",
        "while ground_floor <= target:\n",
        "  print(f'you have reached {ground_floor} floor')\n",
        "  ground_floor = ground_floor+1"
      ],
      "metadata": {
        "colab": {
          "base_uri": "https://localhost:8080/"
        },
        "id": "JCaTWzNeto6H",
        "outputId": "73379691-12a5-4e99-b714-988bdb423b1d"
      },
      "execution_count": null,
      "outputs": [
        {
          "output_type": "stream",
          "name": "stdout",
          "text": [
            "enter your floor: 4\n",
            "you have reached 0 floor\n",
            "you have reached 1 floor\n",
            "you have reached 2 floor\n",
            "you have reached 3 floor\n",
            "you have reached 4 floor\n"
          ]
        }
      ]
    },
    {
      "cell_type": "code",
      "source": [
        "#write a program to print 10 digits using loop in separate line\n",
        "a = int(input(\"enter the number: \"))\n",
        "b = 0\n",
        "while b<=a:\n",
        "  print(b)\n",
        "  b = b + 1"
      ],
      "metadata": {
        "colab": {
          "base_uri": "https://localhost:8080/"
        },
        "id": "C8viJMB1tvIL",
        "outputId": "e563a7ec-ce04-49af-8fef-2dc187d17896"
      },
      "execution_count": null,
      "outputs": [
        {
          "output_type": "stream",
          "name": "stdout",
          "text": [
            "enter the number: 10\n",
            "0\n",
            "1\n",
            "2\n",
            "3\n",
            "4\n",
            "5\n",
            "6\n",
            "7\n",
            "8\n",
            "9\n",
            "10\n"
          ]
        }
      ]
    },
    {
      "cell_type": "code",
      "source": [
        "#write a program to print odd digits  using loop in separate line\n",
        "a = int(input(\"enter the number: \"))\n",
        "b = 1\n",
        "while b<=a:\n",
        "  print(b)\n",
        "  b = b + 2"
      ],
      "metadata": {
        "colab": {
          "base_uri": "https://localhost:8080/"
        },
        "id": "CbwqGb1PwHEZ",
        "outputId": "e5b20e08-6745-493e-fd76-c45ba85762cf"
      },
      "execution_count": null,
      "outputs": [
        {
          "output_type": "stream",
          "name": "stdout",
          "text": [
            "enter the number: 10\n",
            "1\n",
            "3\n",
            "5\n",
            "7\n",
            "9\n"
          ]
        }
      ]
    },
    {
      "cell_type": "code",
      "source": [
        "#for loop :- it runs a set of instructions for each and every element in a collection.\n"
      ],
      "metadata": {
        "id": "BDsgCFegxRwM"
      },
      "execution_count": null,
      "outputs": []
    },
    {
      "cell_type": "code",
      "source": [
        "num = [10,20,30,40,50]\n",
        "#output = [20,40,60,80,100]\n",
        "for i in num:\n",
        "  print(i*2,end=\" \")"
      ],
      "metadata": {
        "colab": {
          "base_uri": "https://localhost:8080/"
        },
        "id": "N_0BVkA2wwdw",
        "outputId": "bee8c379-52fd-456a-f5d4-b1d5db980f9f"
      },
      "execution_count": null,
      "outputs": [
        {
          "output_type": "stream",
          "name": "stdout",
          "text": [
            "20 40 60 80 100 "
          ]
        }
      ]
    },
    {
      "cell_type": "code",
      "source": [
        "#print \"hello world\" in separate line by using loops?\n",
        "n = \"hello world\"\n",
        "for i in n:\n",
        "  print(i)"
      ],
      "metadata": {
        "colab": {
          "base_uri": "https://localhost:8080/"
        },
        "id": "QwJTF-KQypQH",
        "outputId": "bc24c2e0-8038-411f-9f11-11146b7eb49a"
      },
      "execution_count": null,
      "outputs": [
        {
          "output_type": "stream",
          "name": "stdout",
          "text": [
            "h\n",
            "e\n",
            "l\n",
            "l\n",
            "o\n",
            " \n",
            "w\n",
            "o\n",
            "r\n",
            "l\n",
            "d\n"
          ]
        }
      ]
    },
    {
      "cell_type": "code",
      "source": [
        "#is loops can run through each and every element in a collection.---> True\n"
      ],
      "metadata": {
        "id": "xmCKby6tzPnw"
      },
      "execution_count": null,
      "outputs": []
    },
    {
      "cell_type": "code",
      "source": [
        "#write a program to print \"srilatha\" upto the length of the string?\n",
        "#if the length is 11 print 11 times, or 8 print 8 times\n",
        "x = \"srilatha\"\n",
        "for n in x:\n",
        "  print(x)"
      ],
      "metadata": {
        "colab": {
          "base_uri": "https://localhost:8080/"
        },
        "id": "ppZt51xjzdU3",
        "outputId": "e9b1aafd-d425-4d81-a27c-ec3722a42f59"
      },
      "execution_count": null,
      "outputs": [
        {
          "output_type": "stream",
          "name": "stdout",
          "text": [
            "srilatha\n",
            "srilatha\n",
            "srilatha\n",
            "srilatha\n",
            "srilatha\n",
            "srilatha\n",
            "srilatha\n",
            "srilatha\n"
          ]
        }
      ]
    },
    {
      "cell_type": "code",
      "source": [
        "#Break Statement:- it terminates or breaks the loops once the condition satisfies.\n",
        "num = [10,20,30,40,50]\n",
        "#break the loop when the iteration reaches to 30\n",
        "for i in num:\n",
        "  print(i)\n",
        "  if i == 30:\n",
        "    break\n",
        "\n",
        "\n",
        "\n"
      ],
      "metadata": {
        "colab": {
          "base_uri": "https://localhost:8080/"
        },
        "id": "dc-HqHve0dj1",
        "outputId": "781e3a31-75af-44cf-b5ad-397f50428609"
      },
      "execution_count": null,
      "outputs": [
        {
          "output_type": "stream",
          "name": "stdout",
          "text": [
            "10\n",
            "20\n",
            "30\n"
          ]
        }
      ]
    },
    {
      "cell_type": "code",
      "source": [
        "num = [10,20,30,40,50]\n",
        "#break the loop when the iteration reaches to 30\n",
        "for i in num:\n",
        "  if i == 30:\n",
        "    break\n",
        "  print(i)\n"
      ],
      "metadata": {
        "id": "wSFzYWeS18Ue",
        "colab": {
          "base_uri": "https://localhost:8080/"
        },
        "outputId": "0d192fc2-a1fb-4e01-b9bb-0f338251e7bb"
      },
      "execution_count": null,
      "outputs": [
        {
          "output_type": "stream",
          "name": "stdout",
          "text": [
            "10\n",
            "20\n"
          ]
        }
      ]
    },
    {
      "cell_type": "code",
      "source": [
        "#if i use the print() before break why i am getting cosidered condition value?\n",
        "'''python is a interpretted language means it will execute line by line when i have written print() before break. before\n",
        "executing condition the iteration reaches to specific condition value so we can that specific value along with the iterated values in the output'''\n"
      ],
      "metadata": {
        "id": "3U3JVELT2jAv"
      },
      "execution_count": null,
      "outputs": []
    },
    {
      "cell_type": "code",
      "source": [
        "#continue:- it skips the particular iteration when the condition satisfies\n",
        "a=[10,20,30,40,50,60,70,80,90]\n",
        "for x in a:\n",
        "  if x == 40:\n",
        "    continue\n",
        "  print(x)\n"
      ],
      "metadata": {
        "colab": {
          "base_uri": "https://localhost:8080/"
        },
        "id": "VykENN2x3yvC",
        "outputId": "b26b7ced-4670-42c7-ade1-b63e131e7a60"
      },
      "execution_count": null,
      "outputs": [
        {
          "output_type": "stream",
          "name": "stdout",
          "text": [
            "10\n",
            "20\n",
            "30\n",
            "50\n",
            "60\n",
            "70\n",
            "80\n",
            "90\n"
          ]
        }
      ]
    },
    {
      "cell_type": "code",
      "source": [
        "#can we do multiple continues. yes\n",
        "a=[10,20,30,40,50,60,70,80,90]\n",
        "for x in a:\n",
        "  if x in(10,30,50,80):\n",
        "    continue\n",
        "  print(x)\n",
        "\n"
      ],
      "metadata": {
        "colab": {
          "base_uri": "https://localhost:8080/"
        },
        "id": "vfFsljU24tOF",
        "outputId": "3d4b894b-b3a0-471c-bf18-5e5b0100527c"
      },
      "execution_count": null,
      "outputs": [
        {
          "output_type": "stream",
          "name": "stdout",
          "text": [
            "20\n",
            "40\n",
            "60\n",
            "70\n",
            "90\n"
          ]
        }
      ]
    },
    {
      "cell_type": "markdown",
      "source": [
        "**Range**"
      ],
      "metadata": {
        "id": "Gemxrt7f53Ml"
      }
    },
    {
      "cell_type": "code",
      "source": [
        "#write a program to create a range of numbers?\n",
        "#range(end)\n",
        "for i in range(11):\n",
        "  print(i)\n"
      ],
      "metadata": {
        "colab": {
          "base_uri": "https://localhost:8080/"
        },
        "id": "1VUI0jTY5mIk",
        "outputId": "09be6647-5a67-41b3-9507-bb18e4aceed3"
      },
      "execution_count": null,
      "outputs": [
        {
          "output_type": "stream",
          "name": "stdout",
          "text": [
            "0\n",
            "1\n",
            "2\n",
            "3\n",
            "4\n",
            "5\n",
            "6\n",
            "7\n",
            "8\n",
            "9\n",
            "10\n"
          ]
        }
      ]
    },
    {
      "cell_type": "code",
      "source": [
        "#print \"hello world\" 6 times?\n",
        "for i in range(6):\n",
        "  print(\"hello world\")"
      ],
      "metadata": {
        "colab": {
          "base_uri": "https://localhost:8080/"
        },
        "id": "EHmU5YZC5uMm",
        "outputId": "3165d346-5c89-4987-a538-5ec442f7751e"
      },
      "execution_count": null,
      "outputs": [
        {
          "output_type": "stream",
          "name": "stdout",
          "text": [
            "hello world\n",
            "hello world\n",
            "hello world\n",
            "hello world\n",
            "hello world\n",
            "hello world\n"
          ]
        }
      ]
    },
    {
      "cell_type": "code",
      "source": [
        "#range(start:end)\n",
        "#write a program to print range of values from 10 to 40?\n",
        "for i in range(10,41):\n",
        "  print(i,end=\" \")"
      ],
      "metadata": {
        "colab": {
          "base_uri": "https://localhost:8080/"
        },
        "id": "EYiQIgsI6xZ_",
        "outputId": "6cdded17-a7fe-4c4e-dba3-7514111c8bd0"
      },
      "execution_count": null,
      "outputs": [
        {
          "output_type": "stream",
          "name": "stdout",
          "text": [
            "10 11 12 13 14 15 16 17 18 19 20 21 22 23 24 25 26 27 28 29 30 31 32 33 34 35 36 37 38 39 40 "
          ]
        }
      ]
    },
    {
      "cell_type": "code",
      "source": [
        "#write a program to print even numbers from 1 to 20?\n",
        "#range(start:end:step)\n",
        "for i in range(2,21,2):\n",
        "  print(i)"
      ],
      "metadata": {
        "colab": {
          "base_uri": "https://localhost:8080/"
        },
        "id": "ugblVaiU7pSL",
        "outputId": "1968adfe-bb53-4454-f610-06b3153199a0"
      },
      "execution_count": null,
      "outputs": [
        {
          "output_type": "stream",
          "name": "stdout",
          "text": [
            "2\n",
            "4\n",
            "6\n",
            "8\n",
            "10\n",
            "12\n",
            "14\n",
            "16\n",
            "18\n",
            "20\n"
          ]
        }
      ]
    },
    {
      "cell_type": "markdown",
      "source": [
        "#Conditional Statements"
      ],
      "metadata": {
        "id": "QVATapXj9LYx"
      }
    },
    {
      "cell_type": "code",
      "source": [
        "#what is comparision operators and what is relational operators?\n",
        "#both are same\n",
        "#1. equals to --> ==\n",
        "#2. not equals to --> !=\n",
        "#3. greater than --> >\n",
        "#4. less than --> <\n",
        "#5. greater than equals to --> >=\n",
        "#6. less than equals to --> <=     <> ---> not equals to in power bi"
      ],
      "metadata": {
        "id": "QRhuAHap8ZB7"
      },
      "execution_count": null,
      "outputs": []
    },
    {
      "cell_type": "code",
      "source": [
        "print(10 == 10)\n",
        "print(10 != 10)\n",
        "print(10>10)\n",
        "print(10<10)\n",
        "print(10>=10)\n",
        "print(10<=10)"
      ],
      "metadata": {
        "colab": {
          "base_uri": "https://localhost:8080/"
        },
        "id": "EznLvyhW-MAx",
        "outputId": "82669449-50ab-4235-9a7d-5b8277e56979"
      },
      "execution_count": null,
      "outputs": [
        {
          "output_type": "stream",
          "name": "stdout",
          "text": [
            "True\n",
            "False\n",
            "False\n",
            "False\n",
            "True\n",
            "True\n"
          ]
        }
      ]
    },
    {
      "cell_type": "code",
      "source": [
        "#if ---> elif ----> else\n"
      ],
      "metadata": {
        "id": "OMe9OUm5-mdg"
      },
      "execution_count": null,
      "outputs": []
    },
    {
      "cell_type": "code",
      "source": [
        "#print a number wheater a positive or negative or neutral.\n",
        "number = int(input())\n",
        "if number > 0:\n",
        "  print(\"positive\")\n",
        "elif number < 0:\n",
        "  print(\"negative\")\n",
        "else:\n",
        "  print(\"neutral\")"
      ],
      "metadata": {
        "colab": {
          "base_uri": "https://localhost:8080/"
        },
        "id": "XRreHtNB-ws2",
        "outputId": "90e78feb-7ce0-4d77-daf7-91e7cd2d12f6"
      },
      "execution_count": null,
      "outputs": [
        {
          "output_type": "stream",
          "name": "stdout",
          "text": [
            "-9\n",
            "negative\n"
          ]
        }
      ]
    },
    {
      "cell_type": "code",
      "source": [
        "#Logical Operators\n",
        "#not:- it reverse your output\n",
        "print(not(10==10))"
      ],
      "metadata": {
        "colab": {
          "base_uri": "https://localhost:8080/"
        },
        "id": "x3_Slg-hACa4",
        "outputId": "fbe34ef2-714f-4213-af63-5621cc5fab7c"
      },
      "execution_count": null,
      "outputs": [
        {
          "output_type": "stream",
          "name": "stdout",
          "text": [
            "False\n"
          ]
        }
      ]
    },
    {
      "cell_type": "code",
      "source": [
        "a = 10\n",
        "b = 35\n",
        "c = 90\n",
        "#check the condition weather a is less than b and c\n",
        "#b is less than c\n",
        "if a < b and a < c and b < c:\n",
        "  print(\"all the conditions are satisfied\")\n",
        "else:\n",
        "  print(\"any one condition not satisfied\")"
      ],
      "metadata": {
        "colab": {
          "base_uri": "https://localhost:8080/"
        },
        "id": "vxgybtVsAXCz",
        "outputId": "39ee8fa8-6d66-4aab-a706-0782bc7e51e1"
      },
      "execution_count": null,
      "outputs": [
        {
          "output_type": "stream",
          "name": "stdout",
          "text": [
            "all the conditions are satisfied\n"
          ]
        }
      ]
    },
    {
      "cell_type": "code",
      "source": [
        "#pass pass means null ,nothing will happen\n",
        "a = int(input())\n",
        "if a > 0:\n",
        "  pass"
      ],
      "metadata": {
        "colab": {
          "base_uri": "https://localhost:8080/"
        },
        "id": "BlUKq1Mb3uXp",
        "outputId": "610721d9-0c85-4491-f9e8-c5a5e3aca358"
      },
      "execution_count": null,
      "outputs": [
        {
          "name": "stdout",
          "output_type": "stream",
          "text": [
            "5\n"
          ]
        }
      ]
    },
    {
      "cell_type": "markdown",
      "source": [
        "\n",
        "#Collections or knowns as iterables"
      ],
      "metadata": {
        "id": "3MJTszi2Afw8"
      }
    },
    {
      "cell_type": "code",
      "source": [
        "#4 types of collections in python\n",
        "# 1. tuple\n",
        "# 2. list\n",
        "# 3. set\n",
        "# 4. dictionary"
      ],
      "metadata": {
        "id": "OuqDvrWkAi2P"
      },
      "execution_count": null,
      "outputs": []
    },
    {
      "cell_type": "markdown",
      "source": [
        "#List"
      ],
      "metadata": {
        "id": "WDWuPOzqHD7G"
      }
    },
    {
      "cell_type": "code",
      "source": [
        "#1. List:- ---> [] each element is separated with coma(,)\n",
        "# ->is orderded,changable(mutable),and it allows duplicates\n",
        "# ADD : append,insert,extend\n",
        "#remove : pop,remove,del,clear."
      ],
      "metadata": {
        "id": "ZmfzZkCNA74v"
      },
      "execution_count": null,
      "outputs": []
    },
    {
      "cell_type": "code",
      "source": [
        "#it allows duplicates\n",
        "l1 = [\"Apple\",\"Banana\",\"cherries\",\"kiwi\",\"watermelon\",\"lemon\",\"ornage\",\"ornage\",\"Apple\"]\n",
        "print(l1)\n",
        "print(type(l1))"
      ],
      "metadata": {
        "colab": {
          "base_uri": "https://localhost:8080/"
        },
        "id": "c6VcaodcC7vG",
        "outputId": "1dc1a4e6-28b1-4d1d-bcc2-763ed5fb328c"
      },
      "execution_count": null,
      "outputs": [
        {
          "output_type": "stream",
          "name": "stdout",
          "text": [
            "['Apple', 'Banana', 'cherries', 'kiwi', 'watermelon', 'lemon', 'ornage', 'ornage', 'Apple']\n",
            "<class 'list'>\n"
          ]
        }
      ]
    },
    {
      "cell_type": "code",
      "source": [
        "#write programe and prove me that list can allow the duplicates?"
      ],
      "metadata": {
        "id": "mwebwHtEFsyH"
      },
      "execution_count": null,
      "outputs": []
    },
    {
      "cell_type": "code",
      "source": [
        "#list is ordered\n",
        "\"\"\" ordered :- the elements or values in the list is having a aspecific index position number.\n",
        "Based on this postion number we are accessing the data.\"\"\""
      ],
      "metadata": {
        "id": "mtMLIdSOLf-f"
      },
      "execution_count": null,
      "outputs": []
    },
    {
      "cell_type": "code",
      "source": [
        "#How we can access the data in list?\n",
        "#we can access it by using the slicing operator -->[] and index position numbers"
      ],
      "metadata": {
        "id": "_YU7DDFXLxrs"
      },
      "execution_count": null,
      "outputs": []
    },
    {
      "cell_type": "code",
      "source": [
        "l2 = [\"Apple\",\"Banana\",\"cherries\",\"kiwi\",\"watermelon\",\"lemon\",\"ornage\"]\n",
        "#what is the length of this list?\n",
        "print(len(l2))"
      ],
      "metadata": {
        "colab": {
          "base_uri": "https://localhost:8080/"
        },
        "id": "sZ-jmi-SMKPV",
        "outputId": "6b514edd-1703-4b65-b30a-e9e59b7b867e"
      },
      "execution_count": null,
      "outputs": [
        {
          "output_type": "stream",
          "name": "stdout",
          "text": [
            "7\n"
          ]
        }
      ]
    },
    {
      "cell_type": "code",
      "source": [
        "#print or access apple from above list?\n",
        "print(l2[0])\n",
        "#print or access watermelon from above list?\n",
        "print(l2[4])"
      ],
      "metadata": {
        "colab": {
          "base_uri": "https://localhost:8080/"
        },
        "id": "jZpQz8MkMTTY",
        "outputId": "1bde4de4-687f-4336-b9d3-e7b439f78a0a"
      },
      "execution_count": null,
      "outputs": [
        {
          "output_type": "stream",
          "name": "stdout",
          "text": [
            "Apple\n",
            "watermelon\n"
          ]
        }
      ]
    },
    {
      "cell_type": "code",
      "source": [
        "#print the range of items \"cherries\",\"kiwi\",\"watermelon\",\"lemon\"?\n",
        "#[start:end]\n",
        "print(l2[2:6])"
      ],
      "metadata": {
        "colab": {
          "base_uri": "https://localhost:8080/"
        },
        "id": "ptQ5a7j0Mewx",
        "outputId": "bd77d9b0-f2b4-4fbf-b966-e12076ba80c7"
      },
      "execution_count": null,
      "outputs": [
        {
          "output_type": "stream",
          "name": "stdout",
          "text": [
            "['cherries', 'kiwi', 'watermelon', 'lemon']\n"
          ]
        }
      ]
    },
    {
      "cell_type": "code",
      "source": [
        "#Use the negative index and print the range of items?\n",
        "l2 = [\"Apple\",\"Banana\",\"cherries\",\"kiwi\",\"watermelon\",\"lemon\",\"orange\"]\n",
        "print(l2[-3])"
      ],
      "metadata": {
        "colab": {
          "base_uri": "https://localhost:8080/"
        },
        "id": "GANEVXnZMmmr",
        "outputId": "0296339b-41eb-4395-faf8-5f312ad26817"
      },
      "execution_count": null,
      "outputs": [
        {
          "output_type": "stream",
          "name": "stdout",
          "text": [
            "watermelon\n"
          ]
        }
      ]
    },
    {
      "cell_type": "code",
      "source": [
        "#watermelon\",\"kiwi\",\"cherries\"\n",
        "print(l2[-3:-6:-2])"
      ],
      "metadata": {
        "colab": {
          "base_uri": "https://localhost:8080/"
        },
        "id": "g4zSnhT9MqKi",
        "outputId": "dcfde771-1a2e-47f2-a373-f654f87cf729"
      },
      "execution_count": null,
      "outputs": [
        {
          "output_type": "stream",
          "name": "stdout",
          "text": [
            "['watermelon', 'cherries']\n"
          ]
        }
      ]
    },
    {
      "cell_type": "code",
      "source": [
        "#print the list of even position elements?\n",
        "print(l2[::2])"
      ],
      "metadata": {
        "colab": {
          "base_uri": "https://localhost:8080/"
        },
        "id": "9mNAq5u_NJFy",
        "outputId": "4eceeb74-7e26-444d-ebdc-3865ceda690a"
      },
      "execution_count": null,
      "outputs": [
        {
          "output_type": "stream",
          "name": "stdout",
          "text": [
            "['Apple', 'cherries', 'watermelon', 'orange']\n"
          ]
        }
      ]
    },
    {
      "cell_type": "code",
      "source": [
        "#reverse the entire list?\n",
        "print(l2[::-1])"
      ],
      "metadata": {
        "colab": {
          "base_uri": "https://localhost:8080/"
        },
        "id": "5D8C5wutN935",
        "outputId": "9574a230-1e4a-4a90-afe4-cf7e29e73406"
      },
      "execution_count": null,
      "outputs": [
        {
          "output_type": "stream",
          "name": "stdout",
          "text": [
            "['orange', 'lemon', 'watermelon', 'kiwi', 'cherries', 'Banana', 'Apple']\n"
          ]
        }
      ]
    },
    {
      "cell_type": "code",
      "source": [
        "#can we convert a list in to string.\n",
        "#write a program to convert the list into string.\n",
        "l3= ['Apple', 'cherries', 'watermelon', 'ornage']\n",
        "#using loops\n",
        "for x in l3:\n",
        "  print(x, end= \" \")  #end:- when you donot need output in each line then you use \"end=\"\"\n",
        "  #print(type(x))"
      ],
      "metadata": {
        "colab": {
          "base_uri": "https://localhost:8080/"
        },
        "id": "VF0XT63SN-aU",
        "outputId": "9dd9e246-8e00-4890-9f6e-66b175d06105"
      },
      "execution_count": null,
      "outputs": [
        {
          "output_type": "stream",
          "name": "stdout",
          "text": [
            "Apple cherries watermelon ornage "
          ]
        }
      ]
    },
    {
      "cell_type": "code",
      "source": [
        "#list mutable or changable:-\n",
        "#How can you define a collection is mutable?\n",
        "#it can be defined in three ways\n",
        "#change-->replace--> A-->B\n",
        "#ADD the items in to the list\n",
        "# deleting the items in the list\n",
        "# for list there is 2 methods for adding - append , insert."
      ],
      "metadata": {
        "id": "d11EaxwQN-vj"
      },
      "execution_count": null,
      "outputs": []
    },
    {
      "cell_type": "code",
      "source": [
        "#change-->replace--> items in list -->replacing in list can be done with the help of index position numbers.\n",
        "l4 = ['ornage', 'lemon', 'watermelon', 'kiwi', 'cherries', 'Banana', 'Apple']\n",
        "l4[3] = \"starwberry\"\n",
        "print(l4)"
      ],
      "metadata": {
        "colab": {
          "base_uri": "https://localhost:8080/"
        },
        "id": "yz7eFP64hapt",
        "outputId": "66d606ec-6b76-4060-b96c-5799c62f8e26"
      },
      "execution_count": null,
      "outputs": [
        {
          "output_type": "stream",
          "name": "stdout",
          "text": [
            "['ornage', 'lemon', 'watermelon', 'starwberry', 'cherries', 'Banana', 'Apple']\n"
          ]
        }
      ]
    },
    {
      "cell_type": "code",
      "source": [
        "#if i want to replace the range of items in the list\n",
        "l4[0:3] = \"mango\",\"pineapple\",\"grapes\"\n",
        "print(l4)"
      ],
      "metadata": {
        "colab": {
          "base_uri": "https://localhost:8080/"
        },
        "id": "5uNE5Pa0hf5j",
        "outputId": "fa2decde-b015-47c4-fa62-0d5806d7d1c2"
      },
      "execution_count": null,
      "outputs": [
        {
          "output_type": "stream",
          "name": "stdout",
          "text": [
            "['mango', 'pineapple', 'grapes', 'starwberry', 'cherries', 'Banana', 'Apple']\n"
          ]
        }
      ]
    },
    {
      "cell_type": "code",
      "source": [
        "l4[0:4] = \"cashew\", \"dry grapes\"   #it is accepetable in list your replace index postion with items irrespective of number of position\n",
        "print(l4)"
      ],
      "metadata": {
        "colab": {
          "base_uri": "https://localhost:8080/"
        },
        "id": "yKJRiyS2hif6",
        "outputId": "c7265152-1b49-44a8-cbef-4b1504d9e27d"
      },
      "execution_count": null,
      "outputs": [
        {
          "output_type": "stream",
          "name": "stdout",
          "text": [
            "['cashew', 'dry grapes', 'cherries', 'Banana', 'Apple']\n"
          ]
        }
      ]
    },
    {
      "cell_type": "code",
      "source": [
        "#ADD the items in to the list\n",
        "#appen() by default it will add the items in the list in end position\n",
        "l5= ['Apple', 'cherries', 'watermelon', 'ornage']\n",
        "l5.append(\"muskmelon\")\n",
        "print(l5)"
      ],
      "metadata": {
        "colab": {
          "base_uri": "https://localhost:8080/"
        },
        "id": "FlrrKmW7hjQk",
        "outputId": "d36b1ceb-e571-4443-8682-3d3212055914"
      },
      "execution_count": null,
      "outputs": [
        {
          "output_type": "stream",
          "name": "stdout",
          "text": [
            "['Apple', 'cherries', 'watermelon', 'ornage', 'muskmelon']\n"
          ]
        }
      ]
    },
    {
      "cell_type": "code",
      "source": [
        "#if i want to add the element in particular index position.\n",
        "#insert(index,'new item name')\n",
        "l5.insert(3,10) #note you cannot insert multiple values into the list\n",
        "print(l5)"
      ],
      "metadata": {
        "colab": {
          "base_uri": "https://localhost:8080/"
        },
        "id": "i3-plI5ChnQy",
        "outputId": "fb05eaaf-7c51-415d-aa0b-f8182a0d74d9"
      },
      "execution_count": null,
      "outputs": [
        {
          "output_type": "stream",
          "name": "stdout",
          "text": [
            "['Apple', 'cherries', 'watermelon', 10, 'ornage', 'muskmelon']\n"
          ]
        }
      ]
    },
    {
      "cell_type": "code",
      "source": [
        "#Given a list in Python and provided the positions of the elements, write a program to swap the two elements in the list.\n",
        "\n",
        "'''Examples:\n",
        "\n",
        "Input : List = [23, 65, 19, 90], pos1 = 1, pos2 = 3\n",
        "Output : [19, 65, 23, 90]\n",
        "\n",
        "Input : List = [1, 2, 3, 4, 5], pos1 = 2, pos2 = 5'''\n",
        "List = [23, 65, 19, 90]\n",
        "List[0:3:2] = [19,23]\n",
        "print(List)\n",
        "\n"
      ],
      "metadata": {
        "colab": {
          "base_uri": "https://localhost:8080/"
        },
        "id": "_R4CcFdMgwU0",
        "outputId": "313d923d-9efa-4946-df30-09d8cb8208e5"
      },
      "execution_count": null,
      "outputs": [
        {
          "output_type": "stream",
          "name": "stdout",
          "text": [
            "[19, 65, 23, 90]\n"
          ]
        }
      ]
    },
    {
      "cell_type": "code",
      "source": [
        "#extend :-\n",
        "l = [10,20,30,40]\n",
        "l2 = ['Apple','Banana','cherries','kiwi',\"watermelon\",\"lemon\",\"orange\"]\n",
        "#l2.append(l)\n",
        "#if we need to add l2 to l\n",
        "l.extend(l2)\n",
        "print(l)\n",
        "print(len(l2))\n",
        "\n"
      ],
      "metadata": {
        "colab": {
          "base_uri": "https://localhost:8080/"
        },
        "id": "KDcykUeMRaGv",
        "outputId": "48ec975e-607b-4b9d-9fa9-55483a808e09"
      },
      "execution_count": null,
      "outputs": [
        {
          "output_type": "stream",
          "name": "stdout",
          "text": [
            "[10, 20, 30, 40, 'Apple', 'Banana', 'cherries', 'kiwi', 'watermelon', 'lemon', 'orange']\n",
            "7\n"
          ]
        }
      ]
    },
    {
      "cell_type": "code",
      "source": [
        "#from above o/p how can we access the elements\n",
        "print(l2[7])"
      ],
      "metadata": {
        "colab": {
          "base_uri": "https://localhost:8080/"
        },
        "id": "jW_fNol8Sggk",
        "outputId": "8f20834a-485b-4eae-8d6d-ac3abc2518f4"
      },
      "execution_count": null,
      "outputs": [
        {
          "output_type": "stream",
          "name": "stdout",
          "text": [
            "[10, 20, 30, 40]\n"
          ]
        }
      ]
    },
    {
      "cell_type": "code",
      "source": [
        "l3 = ['Apple','cherries','lemon','lemon']\n",
        "l4 = [10,20]\n",
        "#write a progra to add the elements to l3 at the 2nd index position\n",
        "l3.insert(2,l4)\n",
        "print(l3)"
      ],
      "metadata": {
        "colab": {
          "base_uri": "https://localhost:8080/"
        },
        "id": "aa9sS77PT0dM",
        "outputId": "5c29da14-9000-48d4-caf1-8c24c83f8f29"
      },
      "execution_count": null,
      "outputs": [
        {
          "output_type": "stream",
          "name": "stdout",
          "text": [
            "['Apple', 'cherries', [10, 20], 'lemon', 'lemon']\n"
          ]
        }
      ]
    },
    {
      "cell_type": "markdown",
      "source": [
        "**delete or remove**\n"
      ],
      "metadata": {
        "id": "fnPA91MxVuYB"
      }
    },
    {
      "cell_type": "code",
      "source": [
        "#delete\n",
        "l5 = ['Apple', 'cherries', [10, 20], 'lemon', 'lemon']\n",
        "#delete cherries\n",
        "l5.remove(\"cherries\")\n",
        "print(l5)\n"
      ],
      "metadata": {
        "colab": {
          "base_uri": "https://localhost:8080/"
        },
        "id": "sjsL5j64Vlyw",
        "outputId": "56543f12-9dd2-4ba4-ae4c-21fdbe4c566b"
      },
      "execution_count": null,
      "outputs": [
        {
          "output_type": "stream",
          "name": "stdout",
          "text": [
            "['Apple', [10, 20], 'lemon', 'lemon']\n"
          ]
        }
      ]
    },
    {
      "cell_type": "code",
      "source": [
        "#pop\n",
        "l5 = ['Apple', [10, 20], 'lemon', 'lemon']\n",
        "l5.pop()\n",
        "print(l5)"
      ],
      "metadata": {
        "colab": {
          "base_uri": "https://localhost:8080/"
        },
        "id": "wQAJpRKRVtCr",
        "outputId": "37aa166b-e595-4f51-d4ec-af19b486db09"
      },
      "execution_count": null,
      "outputs": [
        {
          "output_type": "stream",
          "name": "stdout",
          "text": [
            "['Apple', [10, 20], 'lemon']\n"
          ]
        }
      ]
    },
    {
      "cell_type": "code",
      "source": [
        "l5.pop(1)\n",
        "print(l5)"
      ],
      "metadata": {
        "colab": {
          "base_uri": "https://localhost:8080/"
        },
        "id": "lu_8oK5PXM-8",
        "outputId": "f0e5abf0-f83d-4a82-f500-b038c4a73bd1"
      },
      "execution_count": null,
      "outputs": [
        {
          "output_type": "stream",
          "name": "stdout",
          "text": [
            "['Apple', 'lemon']\n"
          ]
        }
      ]
    },
    {
      "cell_type": "code",
      "source": [
        "#delete\n",
        "l6 =['Apple', 'cherries', 'lemon','lemon','watermelon', 'orange', 'muskmelon',[10,20,30,40]]\n",
        "#2:5\n",
        "del l6[2:5]\n",
        "print(l6)"
      ],
      "metadata": {
        "colab": {
          "base_uri": "https://localhost:8080/"
        },
        "id": "BNI4yYnFX-qn",
        "outputId": "dd476a59-0c99-45cf-b0a0-88f131ccc840"
      },
      "execution_count": null,
      "outputs": [
        {
          "output_type": "stream",
          "name": "stdout",
          "text": [
            "['Apple', 'cherries', 'orange', 'muskmelon', [10, 20, 30, 40]]\n"
          ]
        }
      ]
    },
    {
      "cell_type": "code",
      "source": [
        "del l6  # this will delete entire colection\n",
        "print(l6)\n",
        "\n"
      ],
      "metadata": {
        "id": "I1IR2tpDYRcY"
      },
      "execution_count": null,
      "outputs": []
    },
    {
      "cell_type": "code",
      "source": [
        "l = [10, 20, 30, 40]\n",
        "l2 =['Apple', 'cherries', 'lemon','lemon']\n",
        "l2.update(l)\n",
        "print(l2)\n",
        "#note :- \"update()\" is not present in the list of collection so you will raise attribute error."
      ],
      "metadata": {
        "id": "3vxQqMxpZmEZ"
      },
      "execution_count": null,
      "outputs": []
    },
    {
      "cell_type": "code",
      "source": [
        "#Sorting can be done based on \"ascii\" number\n",
        "#ASCII:- american standard code for information inter change."
      ],
      "metadata": {
        "id": "Kt8Ruygmbkzn"
      },
      "execution_count": null,
      "outputs": []
    },
    {
      "cell_type": "code",
      "source": [
        "l2 = ['mango','Apple','pineapple','grape','kiwi','watermelon']\n",
        "l2.insert(1,'apple')\n",
        "print(l2)"
      ],
      "metadata": {
        "colab": {
          "base_uri": "https://localhost:8080/"
        },
        "id": "DzlNnKhIb-1s",
        "outputId": "fd17b627-7019-47a5-ae52-405f3aaa656c"
      },
      "execution_count": null,
      "outputs": [
        {
          "output_type": "stream",
          "name": "stdout",
          "text": [
            "['mango', 'apple', 'Apple', 'pineapple', 'grape', 'kiwi', 'watermelon']\n"
          ]
        }
      ]
    },
    {
      "cell_type": "code",
      "source": [
        "#sort\n",
        "l2.sort() #default is ascending order(lower to higher .. A asci value is 65)\n",
        "print(l2)"
      ],
      "metadata": {
        "colab": {
          "base_uri": "https://localhost:8080/"
        },
        "id": "ZeasPBIkcZML",
        "outputId": "1d5c5baf-a792-4187-96cd-3ad21096cd6e"
      },
      "execution_count": null,
      "outputs": [
        {
          "output_type": "stream",
          "name": "stdout",
          "text": [
            "['Apple', 'apple', 'grape', 'kiwi', 'mango', 'pineapple', 'watermelon']\n"
          ]
        }
      ]
    },
    {
      "cell_type": "code",
      "source": [
        "#sort above list in descending order.\n",
        "l2.sort(reverse = True)\n",
        "print(l2)"
      ],
      "metadata": {
        "colab": {
          "base_uri": "https://localhost:8080/"
        },
        "id": "kAEAkJ8FcszF",
        "outputId": "a57465eb-1c93-426d-9db3-eca212fcf23b"
      },
      "execution_count": null,
      "outputs": [
        {
          "output_type": "stream",
          "name": "stdout",
          "text": [
            "['watermelon', 'pineapple', 'mango', 'kiwi', 'grape', 'apple', 'Apple']\n"
          ]
        }
      ]
    },
    {
      "cell_type": "code",
      "source": [
        "#sort the above collection without case sensitivity.\n",
        "l2.sort(key = str.lower)\n",
        "print(l2)\n"
      ],
      "metadata": {
        "colab": {
          "base_uri": "https://localhost:8080/"
        },
        "id": "hjt1OvsMc4Cy",
        "outputId": "0353ee0f-ce31-4341-b371-d88316a05d55"
      },
      "execution_count": null,
      "outputs": [
        {
          "output_type": "stream",
          "name": "stdout",
          "text": [
            "['apple', 'Apple', 'grape', 'kiwi', 'mango', 'pineapple', 'watermelon']\n"
          ]
        }
      ]
    },
    {
      "cell_type": "code",
      "source": [
        "#swap\n",
        "l= ['watermelon', 'pineapple', 'mango', 'kiwi', 'grape', 'apple', 'Apple']\n",
        "l[0:3:2] = 'mango','watermelon'\n",
        "print(l)"
      ],
      "metadata": {
        "colab": {
          "base_uri": "https://localhost:8080/"
        },
        "id": "WUR02BfydLtG",
        "outputId": "c56db669-ec4b-44c3-c4e5-91864d61d282"
      },
      "execution_count": null,
      "outputs": [
        {
          "output_type": "stream",
          "name": "stdout",
          "text": [
            "['mango', 'pineapple', 'watermelon', 'kiwi', 'grape', 'apple', 'Apple']\n"
          ]
        }
      ]
    },
    {
      "cell_type": "markdown",
      "source": [
        "#Tuple"
      ],
      "metadata": {
        "id": "D0QL_mTvgIsf"
      }
    },
    {
      "cell_type": "code",
      "source": [
        "#Tuple : ---> {}\n",
        "#ordered,immutable(unchangable),it allows duplicates\n",
        "\n"
      ],
      "metadata": {
        "id": "jMXDR11qgAqO"
      },
      "execution_count": null,
      "outputs": []
    },
    {
      "cell_type": "code",
      "source": [
        "#tuple allow duplicates\n",
        "t1 = ('Apple', 'Apple','grape','kiwi','mango','pineapple','watermelon')\n",
        "print(t1)\n",
        "print(type(t1))\n",
        "print(len(t1))"
      ],
      "metadata": {
        "colab": {
          "base_uri": "https://localhost:8080/"
        },
        "id": "bPzMJRoVgcUm",
        "outputId": "eef7b44a-441d-4cdf-b029-fd52de5b6a5e"
      },
      "execution_count": null,
      "outputs": [
        {
          "output_type": "stream",
          "name": "stdout",
          "text": [
            "('Apple', 'Apple', 'grape', 'kiwi', 'mango', 'pineapple', 'watermelon')\n",
            "<class 'tuple'>\n",
            "7\n"
          ]
        }
      ]
    },
    {
      "cell_type": "code",
      "source": [
        "#ordered:- accessing or displaying the specific data by using index position numbers.\n",
        "#each element in the collection having its index position number\n",
        "#[start]\n",
        "t1 = ('Apple', 'Apple', 'grape', 'kiwi', 'mango', 'pineapple', 'watermelon')\n",
        "#print mango\n",
        "print(t1[4])"
      ],
      "metadata": {
        "colab": {
          "base_uri": "https://localhost:8080/"
        },
        "id": "DeYT8rlTgs4b",
        "outputId": "066150eb-da13-4520-ce2d-76e2d5b2cbd5"
      },
      "execution_count": null,
      "outputs": [
        {
          "output_type": "stream",
          "name": "stdout",
          "text": [
            "mango\n"
          ]
        }
      ]
    },
    {
      "cell_type": "code",
      "source": [
        "#print the range of elements in t1 ---> [3:5] print the 5th element also?\n",
        "t1 = ('Apple', 'Apple', 'grape', 'kiwi', 'mango', 'pineapple', 'watermelon')\n",
        "print(t1[3:6])"
      ],
      "metadata": {
        "colab": {
          "base_uri": "https://localhost:8080/"
        },
        "id": "d-Td3Lbjhm8q",
        "outputId": "46884c9c-37a7-4ffd-f24f-989dca2c0a97"
      },
      "execution_count": null,
      "outputs": [
        {
          "output_type": "stream",
          "name": "stdout",
          "text": [
            "('kiwi', 'mango', 'pineapple')\n"
          ]
        }
      ]
    },
    {
      "cell_type": "code",
      "source": [
        "#print the even position in above collection?\n",
        "t1=('Apple', 'Apple', 'grape', 'kiwi', 'mango', 'pineapple', 'watermelon')\n",
        "print(t1[::2]) # start can be 0 and end can be len(t1) by default"
      ],
      "metadata": {
        "colab": {
          "base_uri": "https://localhost:8080/"
        },
        "id": "r9hz6rGgiPGK",
        "outputId": "63ee48eb-8f4a-4e39-f93f-8502eb992e8f"
      },
      "execution_count": null,
      "outputs": [
        {
          "output_type": "stream",
          "name": "stdout",
          "text": [
            "('Apple', 'grape', 'mango', 'watermelon')\n"
          ]
        }
      ]
    },
    {
      "cell_type": "code",
      "source": [
        "#reverse the tuple\n",
        "t1=('Apple', 'Apple', 'grape', 'kiwi', 'mango', 'pineapple', 'watermelon')\n",
        "print(t1[::-1])"
      ],
      "metadata": {
        "colab": {
          "base_uri": "https://localhost:8080/"
        },
        "id": "0KiaUZyzjU9c",
        "outputId": "89f3c111-d743-4339-994a-469f0ead6e16"
      },
      "execution_count": null,
      "outputs": [
        {
          "output_type": "stream",
          "name": "stdout",
          "text": [
            "('watermelon', 'pineapple', 'mango', 'kiwi', 'grape', 'Apple', 'Apple')\n"
          ]
        }
      ]
    },
    {
      "cell_type": "code",
      "source": [
        "#immutable:-\n",
        "t1=('Apple', 'Apple', 'grape', 'kiwi', 'mango', 'pineapple', 'watermelon')\n",
        "#t1[1] = 'orange'\n",
        "print(t1)\n",
        "t1.pop()\n",
        "print(t1)\n",
        "#Note:- tuples are immutable so we cannot add or delete items from tuple"
      ],
      "metadata": {
        "id": "hZwgoKLllQLF"
      },
      "execution_count": null,
      "outputs": []
    },
    {
      "cell_type": "code",
      "source": [
        "print(dir(t1))\n",
        "#count,index\n",
        "print(t1.count(\"Apple\"))\n",
        "print(t1.count(\"kiwi\"))\n",
        "print(t1.index(\"grape\"))"
      ],
      "metadata": {
        "colab": {
          "base_uri": "https://localhost:8080/"
        },
        "id": "J_n4LrqDlejC",
        "outputId": "e18f91b6-359f-44e0-ad86-3a68dfd24964"
      },
      "execution_count": null,
      "outputs": [
        {
          "output_type": "stream",
          "name": "stdout",
          "text": [
            "['__add__', '__class__', '__class_getitem__', '__contains__', '__delattr__', '__dir__', '__doc__', '__eq__', '__format__', '__ge__', '__getattribute__', '__getitem__', '__getnewargs__', '__gt__', '__hash__', '__init__', '__init_subclass__', '__iter__', '__le__', '__len__', '__lt__', '__mul__', '__ne__', '__new__', '__reduce__', '__reduce_ex__', '__repr__', '__rmul__', '__setattr__', '__sizeof__', '__str__', '__subclasshook__', 'count', 'index']\n",
            "2\n",
            "1\n",
            "2\n"
          ]
        }
      ]
    },
    {
      "cell_type": "code",
      "source": [
        "#create a list by using tuple\n",
        "t1=('Apple', 'Apple', 'grape', 'kiwi', 'mango', 'pineapple', 'watermelon')\n",
        "print(type(t1))\n",
        "t2 = list(t1)\n",
        "print(t2)\n",
        "print(type(t2))"
      ],
      "metadata": {
        "colab": {
          "base_uri": "https://localhost:8080/"
        },
        "id": "B9ZLdyhkmbGT",
        "outputId": "b912cab5-4378-4902-ede2-a870fd885230"
      },
      "execution_count": null,
      "outputs": [
        {
          "output_type": "stream",
          "name": "stdout",
          "text": [
            "<class 'tuple'>\n",
            "['Apple', 'Apple', 'grape', 'kiwi', 'mango', 'pineapple', 'watermelon']\n",
            "<class 'list'>\n"
          ]
        }
      ]
    },
    {
      "cell_type": "code",
      "source": [
        "# diff b/w list and tuple?\n",
        "#why tuples are faster than list?"
      ],
      "metadata": {
        "id": "ertJWEguovV9"
      },
      "execution_count": null,
      "outputs": []
    },
    {
      "cell_type": "markdown",
      "source": [
        "#Set"
      ],
      "metadata": {
        "id": "sofvGDL5E-CT"
      }
    },
    {
      "cell_type": "code",
      "source": [
        "#set ---> declared in {}\n",
        "#unordered , immutable, it wont allow duplicates\n",
        "\"\"\"except replace orswap we can add and delete items.\"\"\"\n",
        "#ADD:- update,add\n",
        "#delete:- pop,del,dicard,remove,clear\n",
        "#union,intersection by using sets\n",
        "s1 = {0,1,1,3,5,4,7,8,8,9,9}\n",
        "print(s1)\n"
      ],
      "metadata": {
        "id": "u_QPDH7Js1oM",
        "colab": {
          "base_uri": "https://localhost:8080/"
        },
        "outputId": "dad8d521-eebc-4cd7-c11d-0ac382c1a0ab"
      },
      "execution_count": null,
      "outputs": [
        {
          "output_type": "stream",
          "name": "stdout",
          "text": [
            "{0, 1, 3, 4, 5, 7, 8, 9}\n"
          ]
        }
      ]
    },
    {
      "cell_type": "code",
      "source": [
        "#unordered ---> we cannot access elements from the sets why because it doesnot have index position numbers.\n",
        "print(s1[0])"
      ],
      "metadata": {
        "id": "JePi-gn6tcLR"
      },
      "execution_count": null,
      "outputs": []
    },
    {
      "cell_type": "code",
      "source": [
        "#sets are immutable\n",
        "#in sets we can able to add and delete elements but we cannot replace the elements in sets\n",
        "\n",
        "#why we can't swap or replace or change elements in sets?\n",
        "#sets doesn't have index position so we cannot replace the elements\n",
        "\n",
        "#where the elements in sets or storing?\n",
        "#elemets or storing randomly in sets."
      ],
      "metadata": {
        "id": "01n-Co4-G_f_"
      },
      "execution_count": null,
      "outputs": []
    },
    {
      "cell_type": "code",
      "source": [
        "#Adding elements in the sets.\n",
        "#what is the default index position when you add the elements in the sets.\n",
        "s1.add(10) #add method can take only one argument\n",
        "print(s1)"
      ],
      "metadata": {
        "colab": {
          "base_uri": "https://localhost:8080/"
        },
        "id": "nf1s9U9aIAFG",
        "outputId": "ab21ad80-a612-4dc1-bfd7-1a7a16ab470d"
      },
      "execution_count": null,
      "outputs": [
        {
          "output_type": "stream",
          "name": "stdout",
          "text": [
            "{0, 1, 3, 4, 5, 7, 8, 9, 10}\n"
          ]
        }
      ]
    },
    {
      "cell_type": "code",
      "source": [
        "#if i want to add multiple items in the set then?\n",
        "s3 = {30,12}\n",
        "s1.update(s3)\n",
        "print(s1)"
      ],
      "metadata": {
        "colab": {
          "base_uri": "https://localhost:8080/"
        },
        "id": "JfxpBLApMoOf",
        "outputId": "d59655bc-89be-471b-d27a-49c81e57f7a8"
      },
      "execution_count": null,
      "outputs": [
        {
          "output_type": "stream",
          "name": "stdout",
          "text": [
            "{0, 1, 3, 4, 5, 7, 8, 9, 10, 12, 30}\n"
          ]
        }
      ]
    },
    {
      "cell_type": "code",
      "source": [
        "#remove elements from set\n",
        "s1.remove(1)\n",
        "print(s1)"
      ],
      "metadata": {
        "colab": {
          "base_uri": "https://localhost:8080/"
        },
        "id": "iWsaxoj0OZlf",
        "outputId": "a434b841-27f6-4766-97cd-12091514f199"
      },
      "execution_count": null,
      "outputs": [
        {
          "output_type": "stream",
          "name": "stdout",
          "text": [
            "{0, 3, 4, 5, 7, 8, 9, 10, 12, 30}\n"
          ]
        }
      ]
    },
    {
      "cell_type": "code",
      "source": [
        "#discard\n",
        "s1.discard(5)# discard takes only one argument\n",
        "print(s1)"
      ],
      "metadata": {
        "colab": {
          "base_uri": "https://localhost:8080/"
        },
        "id": "L7cRIXJ7OoPa",
        "outputId": "b7ed55d6-8249-45b2-9b9e-b3d8104477d8"
      },
      "execution_count": null,
      "outputs": [
        {
          "output_type": "stream",
          "name": "stdout",
          "text": [
            "{0, 3, 4, 7, 8, 9, 10, 12, 30}\n"
          ]
        }
      ]
    },
    {
      "cell_type": "code",
      "source": [
        "#pop\n",
        "s1.pop()\n",
        "print(s1)\n",
        "#why we are not using pop() in sets?\n",
        "#in set pop method it removes elemets randomly"
      ],
      "metadata": {
        "colab": {
          "base_uri": "https://localhost:8080/"
        },
        "id": "ZtED_TftPNhJ",
        "outputId": "3bddf17e-d348-4e5d-e473-7dd085bbb788"
      },
      "execution_count": null,
      "outputs": [
        {
          "output_type": "stream",
          "name": "stdout",
          "text": [
            "{3, 4, 7, 8, 9, 10, 12, 30}\n"
          ]
        }
      ]
    },
    {
      "cell_type": "code",
      "source": [
        "# what is the difference between discard and delete?\n",
        "# when we use the discard if the item exist or not in the collection it(discard) wont throw any errors while execution\n",
        "s = {3, 4, 7, 8, 9, 10, 12, 30}\n",
        "s.discard(2)\n",
        "print(s)"
      ],
      "metadata": {
        "colab": {
          "base_uri": "https://localhost:8080/"
        },
        "id": "UkQ27O-LPawD",
        "outputId": "7b689550-e484-400f-d110-ee71d67908f6"
      },
      "execution_count": null,
      "outputs": [
        {
          "output_type": "stream",
          "name": "stdout",
          "text": [
            "{3, 4, 7, 8, 9, 10, 12, 30}\n"
          ]
        }
      ]
    },
    {
      "cell_type": "code",
      "source": [
        "#execute matrix operation by using two sets\n",
        "#union and intersection\n",
        "\n",
        "s5 = {\"a\",\"b\",\"c\",\"d\"}\n",
        "s6 = {\"d\",\"e\",\"f\",\"g\"}\n",
        "s_add = s5.union(s6)\n",
        "print(s_add)"
      ],
      "metadata": {
        "colab": {
          "base_uri": "https://localhost:8080/"
        },
        "id": "N81InjdNQjFv",
        "outputId": "0802c965-067c-42d7-8e6c-b6270c543b05"
      },
      "execution_count": null,
      "outputs": [
        {
          "output_type": "stream",
          "name": "stdout",
          "text": [
            "{'g', 'd', 'e', 'a', 'f', 'b', 'c'}\n"
          ]
        }
      ]
    },
    {
      "cell_type": "code",
      "source": [
        "s_inter = s5.intersection(s6)\n",
        "print(s_inter)"
      ],
      "metadata": {
        "id": "01uvCQJLRRZf",
        "colab": {
          "base_uri": "https://localhost:8080/"
        },
        "outputId": "630c72a6-76ed-43d2-bcbf-2c3b04700de7"
      },
      "execution_count": null,
      "outputs": [
        {
          "output_type": "stream",
          "name": "stdout",
          "text": [
            "{'d'}\n"
          ]
        }
      ]
    },
    {
      "cell_type": "markdown",
      "source": [
        "#Dictionary"
      ],
      "metadata": {
        "id": "W9Pw0hTf0WKf"
      }
    },
    {
      "cell_type": "code",
      "source": [
        "#sets are faster than list and tuple why?\n",
        "'''in sets we can able to add new elements but we cannot replace elements in set and the\n",
        "elements are stored randomly so elements/items in sets doesnot have indexing position numbers'''"
      ],
      "metadata": {
        "id": "E1zYHaGe0ZxE"
      },
      "execution_count": null,
      "outputs": []
    },
    {
      "cell_type": "code",
      "source": [
        "#How can we define Dictionary?\n",
        "#Dictionary  ---> {}\n",
        "#unordered,Mutable,it wont allows the duplicates\n",
        "# where we can store items or values or data in dictionary?\n",
        "#we can store in \"key:value\" pairs.\n",
        "\"\"\" replace or swap :- dict1['key_name'] = \"name\"\n",
        "1.\"ADD:- dict1['new_key_name'] = \"value\" --> add new key:value pairs\n",
        "2. DELETE   :- pop,clear,del\n"
      ],
      "metadata": {
        "id": "KQnC88-R1J8y"
      },
      "execution_count": null,
      "outputs": []
    },
    {
      "cell_type": "code",
      "source": [
        "#proof: it wont allows the duplicates\n",
        "d1 = {\n",
        "    \"Name\" : \"Srilatha\",\n",
        "    \"Age\" : 21,\n",
        "    \"Education\" : \"B.Tech\",\n",
        "    \"Education\" : \"CSE\"\n",
        "}\n",
        "print(d1)"
      ],
      "metadata": {
        "colab": {
          "base_uri": "https://localhost:8080/"
        },
        "id": "702qVtzj1Ksr",
        "outputId": "60e093c4-b2fd-406d-cb6e-d8123eb5c8f4"
      },
      "execution_count": null,
      "outputs": [
        {
          "output_type": "stream",
          "name": "stdout",
          "text": [
            "{'Name': 'Srilatha', 'Age': 21, 'Education': 'CSE'}\n"
          ]
        }
      ]
    },
    {
      "cell_type": "code",
      "source": [
        "#Dictionary is unordered : \"key:value\" pairs doesn't have index position numbers\n",
        "d2 = {\n",
        "    \"Name\" : \"Srilatha\",\n",
        "    \"Age\" : 21,\n",
        "    \"Education\" : \"B.Tech\",\n",
        "    \"Education\" : \"CSE\",\n",
        "    \"fruits\" : ['Apple','Mango','Kiwi','Grapes']\n",
        "}\n",
        "#how can we access items in dictionary\n",
        "print(d2['fruits'])\n",
        "#we can access items in dictionary by using key names."
      ],
      "metadata": {
        "colab": {
          "base_uri": "https://localhost:8080/"
        },
        "id": "A6RCPvyk3KwB",
        "outputId": "f5f0606c-42a3-4df4-9a2c-d3eea0b289d4"
      },
      "execution_count": null,
      "outputs": [
        {
          "output_type": "stream",
          "name": "stdout",
          "text": [
            "['Apple', 'Mango', 'Kiwi', 'Grapes']\n"
          ]
        }
      ]
    },
    {
      "cell_type": "code",
      "source": [
        "print(len(d2))"
      ],
      "metadata": {
        "colab": {
          "base_uri": "https://localhost:8080/"
        },
        "id": "aqbt8-g_3Kfo",
        "outputId": "50a9001c-3f60-4fdd-d21e-43473431bf05"
      },
      "execution_count": null,
      "outputs": [
        {
          "output_type": "stream",
          "name": "stdout",
          "text": [
            "4\n"
          ]
        }
      ]
    },
    {
      "cell_type": "code",
      "source": [
        "#print only Education\n",
        "print(d2['Education'])"
      ],
      "metadata": {
        "colab": {
          "base_uri": "https://localhost:8080/"
        },
        "id": "6TuvjQ_M4x1y",
        "outputId": "a7d20626-26a2-4e5c-a14b-6a4da44f79b4"
      },
      "execution_count": null,
      "outputs": [
        {
          "output_type": "stream",
          "name": "stdout",
          "text": [
            "CSE\n"
          ]
        }
      ]
    },
    {
      "cell_type": "code",
      "source": [
        "d2 = {\n",
        "    \"Name\" : \"Srilatha\",\n",
        "    \"Age\" : 21,\n",
        "    \"Education\" : \"B.Tech\",\n",
        "    \"Education\" : \"CSE\",\n",
        "    \"fruits\" : ['Apple','Mango','Kiwi','Grapes']\n",
        "}\n",
        "\n",
        "#in the above dictionary print or access \"apple\"?\n",
        "print(d2['fruits'][0])"
      ],
      "metadata": {
        "colab": {
          "base_uri": "https://localhost:8080/"
        },
        "id": "s6dkYjdW48Oy",
        "outputId": "8dd7da75-9ee4-4532-f422-4092cec47aa4"
      },
      "execution_count": null,
      "outputs": [
        {
          "output_type": "stream",
          "name": "stdout",
          "text": [
            "Apple\n"
          ]
        }
      ]
    },
    {
      "cell_type": "code",
      "source": [
        "#print mango and kiwi?\n",
        "print(d2['fruits'][1:3])"
      ],
      "metadata": {
        "colab": {
          "base_uri": "https://localhost:8080/"
        },
        "id": "hUtirHVo5lBE",
        "outputId": "c29dc979-5f22-4142-baba-b1b41a2585eb"
      },
      "execution_count": null,
      "outputs": [
        {
          "output_type": "stream",
          "name": "stdout",
          "text": [
            "['Mango', 'Kiwi']\n"
          ]
        }
      ]
    },
    {
      "cell_type": "code",
      "source": [
        "#replace\n",
        "d2 = {\n",
        "    \"Name\" : \"Srilatha\",\n",
        "    \"Age\" : 21,\n",
        "    \"Education\" : \"B.Tech\",\n",
        "    \"Education\" : \"CSE\",\n",
        "    \"fruits\" : ['Apple','Mango','Kiwi','Grapes']\n",
        "}\n",
        "d2['Name'] = 'vaishnavi'\n",
        "print(d2)"
      ],
      "metadata": {
        "colab": {
          "base_uri": "https://localhost:8080/"
        },
        "id": "R0xPRw0E6ILT",
        "outputId": "d60f63d5-6adb-4f79-c228-fc048c7fa654"
      },
      "execution_count": null,
      "outputs": [
        {
          "output_type": "stream",
          "name": "stdout",
          "text": [
            "{'Name': 'vaishnavi', 'Age': 21, 'Education': 'CSE', 'fruits': ['Apple', 'Mango', 'Kiwi', 'Grapes']}\n"
          ]
        }
      ]
    },
    {
      "cell_type": "code",
      "source": [
        "#how to add new elements to the dictionary?\n",
        "d2['bike'] = 'Interceptor'\n",
        "print(d2)\n",
        "'''Note: when we are replacing the values or adding new key:value pair.if the key exist in dictionary\n",
        "the value can be replaced.Else if the key doesn't exit new key:value pair can be added\"\""
      ],
      "metadata": {
        "colab": {
          "base_uri": "https://localhost:8080/"
        },
        "id": "tB9r7Kax6ih2",
        "outputId": "29e7bac5-1795-42a0-ca75-ee07a51dd35b"
      },
      "execution_count": null,
      "outputs": [
        {
          "output_type": "stream",
          "name": "stdout",
          "text": [
            "{'Name': 'vaishnavi', 'Age': 21, 'Education': 'CSE', 'fruits': ['Apple', 'Mango', 'Kiwi', 'Grapes'], 'bike': 'Interceptor'}\n"
          ]
        }
      ]
    },
    {
      "cell_type": "markdown",
      "source": [
        "**delete items in dictionary**"
      ],
      "metadata": {
        "id": "aaz7OTdG7cpw"
      }
    },
    {
      "cell_type": "code",
      "source": [
        "#1.pop()\n",
        "d2 = {\n",
        "    \"Name\" : \"Srilatha\",\n",
        "    \"Age\" : 21,\n",
        "    \"Education\" : \"B.Tech\",\n",
        "    \"Education\" : \"CSE\",\n",
        "    \"fruits\" : ['Apple','Mango','Kiwi','Grapes']\n",
        "}\n",
        "d2.pop(\"fruits\") # pop expected one argument, got 0 why because dict is unordered\n",
        "print(d2)"
      ],
      "metadata": {
        "colab": {
          "base_uri": "https://localhost:8080/"
        },
        "id": "vsmdXR_x7ZMd",
        "outputId": "744bdf4d-e41d-4efb-a4f9-d117ee786355"
      },
      "execution_count": null,
      "outputs": [
        {
          "output_type": "stream",
          "name": "stdout",
          "text": [
            "{'Name': 'Srilatha', 'Age': 21, 'Education': 'CSE'}\n"
          ]
        }
      ]
    },
    {
      "cell_type": "code",
      "source": [
        "#add new items to fruits in the d2 dictionary \"orange\" replace into first position\n",
        "d2 = {\n",
        "    \"Name\" : \"Srilatha\",\n",
        "    \"Age\" : 21,\n",
        "    \"Education\" : \"B.Tech\",\n",
        "    \"Education\" : \"CSE\",\n",
        "    \"fruits\" : ['Apple','Mango','Kiwi','Grapes']\n",
        "}\n",
        "d2['fruits'][1] = \"orange\"\n",
        "print(d2)"
      ],
      "metadata": {
        "colab": {
          "base_uri": "https://localhost:8080/"
        },
        "id": "YLvtzzqK8FW5",
        "outputId": "7ec3c213-2e83-4979-dd6a-a5fc7c9c4f76"
      },
      "execution_count": null,
      "outputs": [
        {
          "output_type": "stream",
          "name": "stdout",
          "text": [
            "{'Name': 'Srilatha', 'Age': 21, 'Education': 'CSE', 'fruits': ['Apple', 'orange', 'Kiwi', 'Grapes']}\n"
          ]
        }
      ]
    },
    {
      "cell_type": "code",
      "source": [
        "#how can we find methods for particular collection\n",
        "#use dir()\n",
        "print(dir(d2))"
      ],
      "metadata": {
        "colab": {
          "base_uri": "https://localhost:8080/"
        },
        "id": "NhzmzPVT9Hg7",
        "outputId": "652d650c-60dd-441b-c6e1-99571616e86e"
      },
      "execution_count": null,
      "outputs": [
        {
          "output_type": "stream",
          "name": "stdout",
          "text": [
            "['__class__', '__class_getitem__', '__contains__', '__delattr__', '__delitem__', '__dir__', '__doc__', '__eq__', '__format__', '__ge__', '__getattribute__', '__getitem__', '__gt__', '__hash__', '__init__', '__init_subclass__', '__ior__', '__iter__', '__le__', '__len__', '__lt__', '__ne__', '__new__', '__or__', '__reduce__', '__reduce_ex__', '__repr__', '__reversed__', '__ror__', '__setattr__', '__setitem__', '__sizeof__', '__str__', '__subclasshook__', 'clear', 'copy', 'fromkeys', 'get', 'items', 'keys', 'pop', 'popitem', 'setdefault', 'update', 'values']\n"
          ]
        }
      ]
    },
    {
      "cell_type": "code",
      "source": [
        "#add new item to fruits at index position 2\n",
        "d2['fruits'].insert(2,'lemon')\n",
        "print(d2)"
      ],
      "metadata": {
        "colab": {
          "base_uri": "https://localhost:8080/"
        },
        "id": "rymhR55k9X06",
        "outputId": "bf60e224-0416-4721-80f0-a9b8a0ba8d21"
      },
      "execution_count": null,
      "outputs": [
        {
          "output_type": "stream",
          "name": "stdout",
          "text": [
            "{'Name': 'Srilatha', 'Age': 21, 'Education': 'CSE', 'fruits': ['Apple', 'orange', 'lemon', 'Kiwi', 'Grapes']}\n"
          ]
        }
      ]
    },
    {
      "cell_type": "code",
      "source": [
        "#use append method.add \"rose berry\" into fruits?\n",
        "d2['fruits'].append('rose berry')\n",
        "print(d2)"
      ],
      "metadata": {
        "colab": {
          "base_uri": "https://localhost:8080/"
        },
        "id": "9fXgRCG09r0B",
        "outputId": "1f38c14e-894f-4f8a-b62e-95c1b67d4fff"
      },
      "execution_count": null,
      "outputs": [
        {
          "output_type": "stream",
          "name": "stdout",
          "text": [
            "{'Name': 'Srilatha', 'Age': 21, 'Education': 'CSE', 'fruits': ['Apple', 'orange', 'lemon', 'Kiwi', 'Grapes', 'rose berry']}\n"
          ]
        }
      ]
    },
    {
      "cell_type": "code",
      "source": [
        "d4 =  {'Name': 'Srilatha',\n",
        "      'Age': 21,\n",
        "      'Education': 'CSE',\n",
        "      'fruits': ['Apple', 'orange', 'lemon', 'Kiwi', 'Grapes', 'rose berry']\n",
        "}\n",
        "# d4.pop('fruits')\n",
        "# print(d4)\n",
        "#delete\n",
        "# del d4['fruits'][1:3] #use del to delete list of items to list\n",
        "# print(d4)\n",
        "\n",
        "# d4.clear()\n",
        "# print(d4)\n",
        "\n",
        "del d4\n"
      ],
      "metadata": {
        "id": "Oe0-a-R1-Cet"
      },
      "execution_count": null,
      "outputs": []
    },
    {
      "cell_type": "code",
      "source": [
        "print(d4)"
      ],
      "metadata": {
        "id": "hguL9Tfi_iVF"
      },
      "execution_count": null,
      "outputs": []
    },
    {
      "cell_type": "code",
      "source": [
        "#try the same thing by using collection of sets\n",
        "d4 =  {'Name': 'Srilatha',\n",
        "      'Age': 21,\n",
        "      'Education': 'CSE',\n",
        "    'fruits': {'Apple', 'orange', 'lemon', 'Kiwi', 'Grapes', 'rose berry'}\n",
        "}\n",
        "# we cannot access the set item\n",
        "d4['fruits'].add('guava')\n",
        "print(d4)"
      ],
      "metadata": {
        "colab": {
          "base_uri": "https://localhost:8080/"
        },
        "id": "BxIu0kcF_mZ_",
        "outputId": "be3e9662-10da-4434-c7f8-7e1a7c995c7e"
      },
      "execution_count": null,
      "outputs": [
        {
          "output_type": "stream",
          "name": "stdout",
          "text": [
            "{'Name': 'Srilatha', 'Age': 21, 'Education': 'CSE', 'fruits': {'Kiwi', 'Grapes', 'orange', 'lemon', 'guava', 'Apple', 'rose berry'}}\n"
          ]
        }
      ]
    },
    {
      "cell_type": "code",
      "source": [
        "d4 =  {'Name': 'Srilatha',\n",
        "      'Age': 21,\n",
        "      'Education': 'CSE',\n",
        "    'fruits': {'Apple', 'orange', 'lemon', 'Kiwi', 'Grapes', 'rose berry'}\n",
        "}\n",
        "d4['fruits'].add('pine apple')\n",
        "print(d4)"
      ],
      "metadata": {
        "colab": {
          "base_uri": "https://localhost:8080/"
        },
        "id": "nNNAbe6p_48z",
        "outputId": "eaefc125-0532-4512-9401-65e0771117ee"
      },
      "execution_count": null,
      "outputs": [
        {
          "output_type": "stream",
          "name": "stdout",
          "text": [
            "{'Name': 'Srilatha', 'Age': 21, 'Education': 'CSE', 'fruits': {'pine apple', 'Kiwi', 'Grapes', 'orange', 'lemon', 'Apple', 'rose berry'}}\n"
          ]
        }
      ]
    },
    {
      "cell_type": "code",
      "source": [
        "#print only keys from above dictionary?\n",
        "print(d4.keys())"
      ],
      "metadata": {
        "colab": {
          "base_uri": "https://localhost:8080/"
        },
        "id": "1qGVss4_B08z",
        "outputId": "ffa2ea06-376b-40f3-96b1-0dcabfb3f871"
      },
      "execution_count": null,
      "outputs": [
        {
          "output_type": "stream",
          "name": "stdout",
          "text": [
            "dict_keys(['Name', 'Age', 'Education', 'fruits'])\n"
          ]
        }
      ]
    },
    {
      "cell_type": "code",
      "source": [
        "#print only values from the dictionary?\n",
        "print(d4.values())"
      ],
      "metadata": {
        "colab": {
          "base_uri": "https://localhost:8080/"
        },
        "id": "z-vg4JIQEGk6",
        "outputId": "2b542b24-328a-4ef9-e889-b7c88cc39b4d"
      },
      "execution_count": null,
      "outputs": [
        {
          "output_type": "stream",
          "name": "stdout",
          "text": [
            "dict_values(['Srilatha', 21, 'CSE', {'Grapes', 'i', 'lemon', 'Apple', 'l', 'Kiwi', 'orange', 'a', 'p', 'guava', 'rose berry', 'n', 'e'}])\n"
          ]
        }
      ]
    },
    {
      "cell_type": "code",
      "source": [
        "#print items and values?\n",
        "print(d4.items())"
      ],
      "metadata": {
        "colab": {
          "base_uri": "https://localhost:8080/"
        },
        "id": "b4YWl9wAEU8k",
        "outputId": "8dd33151-231a-49a1-f46a-e84feb6206dd"
      },
      "execution_count": null,
      "outputs": [
        {
          "output_type": "stream",
          "name": "stdout",
          "text": [
            "dict_items([('Name', 'Srilatha'), ('Age', 21), ('Education', 'CSE'), ('fruits', {'Grapes', 'i', 'lemon', 'Apple', 'l', 'Kiwi', 'orange', 'a', 'p', 'guava', 'rose berry', 'n', 'e'})])\n"
          ]
        }
      ]
    },
    {
      "cell_type": "code",
      "source": [
        "d4 =  {'Name': 'Srilatha',\n",
        "      'Age': 21,\n",
        "      'Education': 'CSE',\n",
        "    'fruits': ['Apple', 'orange', 'lemon', 'Kiwi', 'Grapes', 'rose berry']\n",
        "}\n",
        "#print keys in separate line?\n",
        "for x in d4.keys():\n",
        "  print(x)\n",
        "#print values in separate line?\n",
        "for x in d4.values():\n",
        "  print(x)\n"
      ],
      "metadata": {
        "colab": {
          "base_uri": "https://localhost:8080/"
        },
        "id": "uaFK1MBvEkYX",
        "outputId": "a59f8940-03ba-4ad5-edb2-2b3a49c8ad36"
      },
      "execution_count": null,
      "outputs": [
        {
          "output_type": "stream",
          "name": "stdout",
          "text": [
            "Name\n",
            "Age\n",
            "Education\n",
            "fruits\n",
            "Srilatha\n",
            "21\n",
            "CSE\n",
            "['Apple', 'orange', 'lemon', 'Kiwi', 'Grapes', 'rose berry']\n"
          ]
        }
      ]
    },
    {
      "cell_type": "code",
      "source": [
        "#print both key:value pairs by using loops?\n",
        "for x in d4.items():\n",
        "  print(x)"
      ],
      "metadata": {
        "colab": {
          "base_uri": "https://localhost:8080/"
        },
        "id": "r1-ayH7IFf2s",
        "outputId": "d01a4e2e-3901-4585-8502-499b5ed7fe77"
      },
      "execution_count": null,
      "outputs": [
        {
          "output_type": "stream",
          "name": "stdout",
          "text": [
            "('Name', 'Srilatha')\n",
            "('Age', 21)\n",
            "('Education', 'CSE')\n",
            "('fruits', ['Apple', 'orange', 'lemon', 'Kiwi', 'Grapes', 'rose berry'])\n"
          ]
        }
      ]
    },
    {
      "cell_type": "code",
      "source": [
        "#print in the format key::value pairs?\n",
        "for z in d4.keys():\n",
        "  print(f'{z} : {d4[z]}')\n",
        "f"
      ],
      "metadata": {
        "colab": {
          "base_uri": "https://localhost:8080/"
        },
        "id": "2UzED-dJFyQ-",
        "outputId": "de2f5a51-872d-4cf9-fedc-76a1d98470ad"
      },
      "execution_count": null,
      "outputs": [
        {
          "output_type": "stream",
          "name": "stdout",
          "text": [
            "Name : Srilatha\n",
            "Age : 21\n",
            "Education : CSE\n",
            "fruits : ['Apple', 'orange', 'lemon', 'Kiwi', 'Grapes', 'rose berry']\n"
          ]
        }
      ]
    },
    {
      "cell_type": "markdown",
      "source": [
        "#Functions"
      ],
      "metadata": {
        "id": "dc2GWGHx-xWt"
      }
    },
    {
      "cell_type": "code",
      "source": [
        "#what is function?\n",
        "#A block of code which only runs when it is called.\n",
        "print(\"hello\")"
      ],
      "metadata": {
        "colab": {
          "base_uri": "https://localhost:8080/"
        },
        "id": "PWkqJwg00BYS",
        "outputId": "76c5d476-4132-4d2e-af06-11ec9a3090a6"
      },
      "execution_count": null,
      "outputs": [
        {
          "output_type": "stream",
          "name": "stdout",
          "text": [
            "0\n",
            "1\n",
            "2\n",
            "3\n",
            "5\n",
            "8\n",
            "13\n",
            "21\n",
            "34\n",
            "55\n"
          ]
        }
      ]
    },
    {
      "cell_type": "code",
      "source": [
        "#how to create a function\n",
        "def f1():\n",
        "  print(\"Hello\")\n",
        "  print(\"this is running with a function\")\n",
        "  print(\"=========\")\n",
        "#call function\n",
        "f1()"
      ],
      "metadata": {
        "colab": {
          "base_uri": "https://localhost:8080/"
        },
        "id": "-Oxn2Eqw0-QG",
        "outputId": "9b32ce68-2fd5-4b63-a1f3-27a5af23f0c6"
      },
      "execution_count": null,
      "outputs": [
        {
          "output_type": "stream",
          "name": "stdout",
          "text": [
            "Hello\n",
            "this is running with a function\n",
            "=========\n"
          ]
        }
      ]
    },
    {
      "cell_type": "code",
      "source": [
        "#create a function called \"zenvius_welcome\"\n",
        "# print(\"hello good morning\")\n",
        "# print(\"this is module 2\")\n",
        "# print(\"please practice the session\")\n",
        "\n",
        "def zenvius_welcome():\n",
        "  print(\"hello good morning\")\n",
        "  print(\"this is module 2\")\n",
        "  print(\"please practice the session\")\n",
        "zenvius_welcome()"
      ],
      "metadata": {
        "colab": {
          "base_uri": "https://localhost:8080/"
        },
        "id": "NOL5Isqi11yS",
        "outputId": "6b9aafca-2724-4718-a26e-737839d3215c"
      },
      "execution_count": null,
      "outputs": [
        {
          "output_type": "stream",
          "name": "stdout",
          "text": [
            "hello good morning\n",
            "this is module 2\n",
            "please practice the session\n"
          ]
        }
      ]
    },
    {
      "cell_type": "markdown",
      "source": [
        "**Parameter**\n",
        "\n",
        "**Arguments**"
      ],
      "metadata": {
        "id": "CcOco_PCA-Uc"
      }
    },
    {
      "cell_type": "code",
      "source": [
        "#what is parameter?\n",
        "#Creating a variable when your denifing a function is known as parameters.\n",
        "def details(Name,Age,Gender,Education):\n",
        "  print(f'hello this is {Name}, and i am {Age} years old , and my Gender is {Gender}, and i have done my bachelors in {Education}')\n",
        "details(\"Srilatha\",21,\"Female\",\"Srm University\")# these are called arguments"
      ],
      "metadata": {
        "colab": {
          "base_uri": "https://localhost:8080/"
        },
        "id": "EBBo2KMe3x9b",
        "outputId": "9b4658af-4345-4fea-c081-d84afc77e757"
      },
      "execution_count": null,
      "outputs": [
        {
          "output_type": "stream",
          "name": "stdout",
          "text": [
            "hello this is Srilatha, and i am 21 years old , and my Gender is Female, and i have done my bachelors in Srm University\n"
          ]
        }
      ]
    },
    {
      "cell_type": "code",
      "source": [
        "#what is arguments?\n",
        "#calling the function with certain values is known as arguments.\n",
        "#Note:- when we given specific numbers of paraments,while calling function  we need give equal number of arguments."
      ],
      "metadata": {
        "colab": {
          "base_uri": "https://localhost:8080/"
        },
        "id": "J9SgGao04OlX",
        "outputId": "f5d3545f-02b3-4a20-b2a0-ea8435335d3a"
      },
      "execution_count": null,
      "outputs": [
        {
          "output_type": "stream",
          "name": "stdout",
          "text": [
            "True\n"
          ]
        }
      ]
    },
    {
      "cell_type": "code",
      "source": [
        "#what do i do when i dont know how many parameters i pass?\n",
        "def details(**name):\n",
        "  for x,y in name.items():\n",
        "    print(f'{x} = {y}')\n",
        "#call function\n",
        "details(Name = \"python\",last_name = \"programming\",age = 21,mobile = 9078654322)"
      ],
      "metadata": {
        "colab": {
          "base_uri": "https://localhost:8080/"
        },
        "id": "q9QQMFcL5Uwl",
        "outputId": "5750ebaf-95ee-400b-cff2-46ad17c7b8ef"
      },
      "execution_count": null,
      "outputs": [
        {
          "output_type": "stream",
          "name": "stdout",
          "text": [
            "Name = python\n",
            "last_name = programming\n",
            "age = 21\n",
            "mobile = 9078654322\n"
          ]
        }
      ]
    },
    {
      "cell_type": "code",
      "source": [
        "def details(**name):\n",
        "  print(name)\n",
        "details(Name = \"python\",last_name = \"programming\",age = 21,mobile = 9078654322)"
      ],
      "metadata": {
        "colab": {
          "base_uri": "https://localhost:8080/"
        },
        "id": "ksAfbZtJ5ggY",
        "outputId": "226d8d8f-60d5-47fa-eab8-85b6321b4721"
      },
      "execution_count": null,
      "outputs": [
        {
          "output_type": "stream",
          "name": "stdout",
          "text": [
            "{'Name': 'python', 'last_name': 'programming', 'age': 21, 'mobile': 9078654322}\n"
          ]
        }
      ]
    },
    {
      "cell_type": "code",
      "source": [
        "#when you dont know how many arguments has to pass?\n",
        "def f4(n1,n2,n3,n4):\n",
        "  print(f'hello {n1}')\n",
        "f4(\"python\",21,89,76)\n",
        "\n"
      ],
      "metadata": {
        "colab": {
          "base_uri": "https://localhost:8080/"
        },
        "id": "YJSmqZ8zF3a8",
        "outputId": "5cc17dfc-404f-487e-e53f-37a850a6f6eb"
      },
      "execution_count": null,
      "outputs": [
        {
          "output_type": "stream",
          "name": "stdout",
          "text": [
            "hello python\n"
          ]
        }
      ]
    },
    {
      "cell_type": "code",
      "source": [
        "def f5(*name):\n",
        "  for x in name:\n",
        "    print(f'hello {x}')\n",
        "f5('py','j','js','React')\n"
      ],
      "metadata": {
        "colab": {
          "base_uri": "https://localhost:8080/"
        },
        "id": "HHVh0W85Gi-m",
        "outputId": "0ee96906-ae08-4a27-d1c1-ae04623c3afc"
      },
      "execution_count": null,
      "outputs": [
        {
          "output_type": "stream",
          "name": "stdout",
          "text": [
            "hello py\n",
            "hello j\n",
            "hello js\n",
            "hello React\n"
          ]
        }
      ]
    },
    {
      "cell_type": "code",
      "source": [
        "''' 1.**--> when you dont know how many parameters has to pass---> ** arbitary keyword argumnets(Kwargs)\n",
        "and the default data type for kwargs is \"dictionary\".'''\n",
        "\n",
        "'''2.*--> when you dont know how many arguments has to pass ---> *arbitary arguments(args)\n",
        "and the default data type for args is \"Tuple\".'''\n",
        "\n",
        "\n",
        "\n"
      ],
      "metadata": {
        "id": "fnoD6CojHc-f"
      },
      "execution_count": null,
      "outputs": []
    },
    {
      "cell_type": "code",
      "source": [
        "# Write a Python program to create a deque and append a few elements to the left and right. Next, remove some elements from the left and right sides and reverse the deque.\n",
        "# Sample Output:\n",
        "# deque(['Red', 'Green', 'White'])\n",
        "# Adding to the left:\n",
        "# deque(['Pink', 'Red', 'Green', 'White'])\n",
        "# Adding to the right:\n",
        "# deque(['Pink', 'Red', 'Green', 'White', 'Orange'])\n",
        "# Removing from the right:\n",
        "# deque(['Pink', 'Red', 'Green', 'White'])\n",
        "# Removing from the left:\n",
        "# deque(['Red', 'Green', 'White'])\n",
        "# Reversing the deque:\n",
        "# deque(['White', 'Green', 'Red'])\n",
        "\n",
        "d1 = ['Red', 'Green', 'White']\n",
        "d1.insert(0,'pink')\n",
        "print(d1)\n",
        "d1.append('Orange')\n",
        "print(d1)\n",
        "d1.pop()\n",
        "print(d1)\n",
        "del d1[0]\n",
        "print(d1)\n",
        "x = d1[::-1]\n",
        "print(x)\n",
        "\n"
      ],
      "metadata": {
        "colab": {
          "base_uri": "https://localhost:8080/"
        },
        "id": "EHAHLu9CmaeY",
        "outputId": "30d71954-238e-4f3d-feee-56344e99983a"
      },
      "execution_count": null,
      "outputs": [
        {
          "output_type": "stream",
          "name": "stdout",
          "text": [
            "['pink', 'Red', 'Green', 'White']\n",
            "['pink', 'Red', 'Green', 'White', 'Orange']\n",
            "['pink', 'Red', 'Green', 'White']\n",
            "['Red', 'Green', 'White']\n",
            "['White', 'Green', 'Red']\n"
          ]
        }
      ]
    },
    {
      "cell_type": "markdown",
      "source": [
        "#Programs"
      ],
      "metadata": {
        "id": "fuHNv2DC5Onz"
      }
    },
    {
      "cell_type": "code",
      "source": [
        "#python program to print wheather the given number is even or odd?\n",
        "n = int(input())\n",
        "if (n % 2 == 0):\n",
        "  print(f'{n} is even')\n",
        "else:\n",
        "  print(f'{n} is odd')"
      ],
      "metadata": {
        "id": "T0ODAlLTn8rK",
        "colab": {
          "base_uri": "https://localhost:8080/"
        },
        "outputId": "04e98ca2-1234-4833-d7d3-f6815656107f"
      },
      "execution_count": null,
      "outputs": [
        {
          "output_type": "stream",
          "name": "stdout",
          "text": [
            "2\n",
            "2 is even\n"
          ]
        }
      ]
    },
    {
      "cell_type": "code",
      "source": [
        "#python program to print celsius to fahrenheit\n",
        "celsius = float(input(\"Enter the celsius: \"))\n",
        "fahrenheit = (celsius * 9/5) + 32\n",
        "print(f'{celsius} celsius is equal to {fahrenheit} fahrenheit')"
      ],
      "metadata": {
        "colab": {
          "base_uri": "https://localhost:8080/"
        },
        "id": "P6GeRvhT0a-e",
        "outputId": "c6204426-1f12-4602-84c8-87ee5f4a8cae"
      },
      "execution_count": null,
      "outputs": [
        {
          "output_type": "stream",
          "name": "stdout",
          "text": [
            "Enter the celsius: 3.4\n",
            "3.4 celsius is equal to 38.12 fahrenheit\n"
          ]
        }
      ]
    },
    {
      "cell_type": "code",
      "source": [
        "#python program to print calender\n",
        "import calendar\n",
        "month = int(input(\"Enter the month : \"))\n",
        "year = int(input(\"Enter the year : \"))\n",
        "print(calendar.month(year,month))"
      ],
      "metadata": {
        "colab": {
          "base_uri": "https://localhost:8080/"
        },
        "id": "j_KOeB_h4yOU",
        "outputId": "23462dbf-ea12-43af-b197-7b5ffae62b58"
      },
      "execution_count": null,
      "outputs": [
        {
          "output_type": "stream",
          "name": "stdout",
          "text": [
            "Enter the month : 6\n",
            "Enter the year : 2024\n",
            "     June 2024\n",
            "Mo Tu We Th Fr Sa Su\n",
            "                1  2\n",
            " 3  4  5  6  7  8  9\n",
            "10 11 12 13 14 15 16\n",
            "17 18 19 20 21 22 23\n",
            "24 25 26 27 28 29 30\n",
            "\n"
          ]
        }
      ]
    },
    {
      "cell_type": "code",
      "source": [
        "#Python program to find the area of a triangle\n"
      ],
      "metadata": {
        "id": "F8FL6F1H54La"
      },
      "execution_count": null,
      "outputs": []
    },
    {
      "cell_type": "code",
      "source": [
        "#Python Program to Find the Largest Among Three Numbers\n",
        "x = int(input())\n",
        "y = int(input())\n",
        "z = int(input())\n",
        "if x >= y and x >= z:\n",
        "  print(f'The largest Number is {x}')\n",
        "elif y >= x and y >=z:\n",
        "  print(f'The largest number is45 {y}')\n",
        "else:\n",
        "  print(f'The largest number is {z}')"
      ],
      "metadata": {
        "colab": {
          "base_uri": "https://localhost:8080/"
        },
        "id": "BvKzsAepEgOP",
        "outputId": "cbad908c-3eeb-4065-8df8-01b192baf03f"
      },
      "execution_count": null,
      "outputs": [
        {
          "output_type": "stream",
          "name": "stdout",
          "text": [
            "23\n",
            "4\n",
            "1\n",
            "The largest Number is 23\n"
          ]
        }
      ]
    },
    {
      "cell_type": "code",
      "source": [
        "#program to check leap year or not\n",
        "n = int(input())\n",
        "if n % 4 == 0:\n",
        "  if n % 100 == 0:\n",
        "    if n % 400 == 0:\n",
        "      print(f'{n} is a leap year')\n",
        "    else:\n",
        "      print(f'{n} is Not a leap year')\n",
        "  else:\n",
        "    print(f'{n} is Not a leap year')\n",
        "else:\n",
        "      print(f'{n} is Not a leap year')\n"
      ],
      "metadata": {
        "colab": {
          "base_uri": "https://localhost:8080/"
        },
        "id": "88XNSAgYF0pI",
        "outputId": "11a5848b-2d4f-4be4-8823-f77c5e6a3da8"
      },
      "execution_count": null,
      "outputs": [
        {
          "output_type": "stream",
          "name": "stdout",
          "text": [
            "1600\n",
            "1600 is a leap year\n"
          ]
        }
      ]
    },
    {
      "cell_type": "code",
      "source": [
        "i = 10\n",
        "\n",
        "while i>=1:\n",
        "  print(i)\n",
        "  i = i - 1\n"
      ],
      "metadata": {
        "id": "CLhmS9t9HThu",
        "colab": {
          "base_uri": "https://localhost:8080/"
        },
        "outputId": "1a7b2a14-0fcd-4b18-9ad6-869d924209ec"
      },
      "execution_count": null,
      "outputs": [
        {
          "output_type": "stream",
          "name": "stdout",
          "text": [
            "10\n",
            "9\n",
            "8\n",
            "7\n",
            "6\n",
            "5\n",
            "4\n",
            "3\n",
            "2\n",
            "1\n"
          ]
        }
      ]
    },
    {
      "cell_type": "code",
      "source": [
        "#print sum of 10 even numbers\n",
        "sum = 0\n",
        "num = 2\n",
        "while num<=20:\n",
        "  print(num)\n",
        "  sum = num + sum\n",
        "  num = num + 2\n",
        "  print(sum)\n"
      ],
      "metadata": {
        "colab": {
          "base_uri": "https://localhost:8080/"
        },
        "id": "ruNCfHFrLsQ8",
        "outputId": "87a8a21b-188c-45bb-f38e-d99e7e5214ef",
        "collapsed": true
      },
      "execution_count": null,
      "outputs": [
        {
          "output_type": "stream",
          "name": "stdout",
          "text": [
            "2\n",
            "4\n",
            "6\n",
            "8\n",
            "10\n",
            "12\n",
            "14\n",
            "16\n",
            "18\n",
            "20\n",
            "110\n"
          ]
        }
      ]
    },
    {
      "cell_type": "code",
      "source": [
        "n = input(\"Enter a string : \")\n",
        "if n == n[::-1]:\n",
        "    print(f\"{n} is a palindrome\")\n",
        "else:\n",
        "    print(f\"{n} is not a palindrome number\")\n"
      ],
      "metadata": {
        "colab": {
          "base_uri": "https://localhost:8080/"
        },
        "id": "Ta--T41BNp4r",
        "outputId": "2988bfc3-7d95-4a4f-8efb-20ebe51b2d00"
      },
      "execution_count": null,
      "outputs": [
        {
          "output_type": "stream",
          "name": "stdout",
          "text": [
            "Enter a string : man\n",
            "man is not a palindrome number\n"
          ]
        }
      ]
    },
    {
      "cell_type": "code",
      "source": [
        "#fibonacci series\n",
        "def fib(n):\n",
        "  a = 0\n",
        "  b = 1\n",
        "  print(a)\n",
        "  print(b)\n",
        "  for i in range(2,n):\n",
        "    c = a + b\n",
        "    a = b\n",
        "    b = c\n",
        "    print(c)\n",
        "fib(10)"
      ],
      "metadata": {
        "colab": {
          "base_uri": "https://localhost:8080/"
        },
        "id": "URG3ST_kOJLb",
        "outputId": "521cf9d7-3d03-4a29-dc49-ac6094bb4446"
      },
      "execution_count": null,
      "outputs": [
        {
          "output_type": "stream",
          "name": "stdout",
          "text": [
            "0\n",
            "1\n",
            "1\n",
            "2\n",
            "3\n",
            "5\n",
            "8\n",
            "13\n",
            "21\n",
            "34\n"
          ]
        }
      ]
    },
    {
      "cell_type": "code",
      "source": [
        "#even numbers using while\n",
        "a = 0\n",
        "while a <= 20:\n",
        "  print(a)\n",
        "  a = a + 2"
      ],
      "metadata": {
        "colab": {
          "base_uri": "https://localhost:8080/"
        },
        "id": "GMEToAm_OiNu",
        "outputId": "4d480a65-7442-494a-ee79-549d6d862236"
      },
      "execution_count": null,
      "outputs": [
        {
          "output_type": "stream",
          "name": "stdout",
          "text": [
            "0\n",
            "2\n",
            "4\n",
            "6\n",
            "8\n",
            "10\n",
            "12\n",
            "14\n",
            "16\n",
            "18\n",
            "20\n"
          ]
        }
      ]
    },
    {
      "cell_type": "code",
      "source": [
        "# squares\n",
        "a = 0\n",
        "while()\n",
        "  print(n)"
      ],
      "metadata": {
        "id": "69S04BO4SYoX",
        "colab": {
          "base_uri": "https://localhost:8080/",
          "height": 211
        },
        "outputId": "9600a8b5-51f7-4fa8-9de9-15090411bdf9"
      },
      "execution_count": null,
      "outputs": [
        {
          "name": "stdout",
          "output_type": "stream",
          "text": [
            "a,d,c =3 4 5\n"
          ]
        },
        {
          "output_type": "error",
          "ename": "TypeError",
          "evalue": "unsupported operand type(s) for ** or pow(): 'str' and 'int'",
          "traceback": [
            "\u001b[0;31m---------------------------------------------------------------------------\u001b[0m",
            "\u001b[0;31mTypeError\u001b[0m                                 Traceback (most recent call last)",
            "\u001b[0;32m<ipython-input-26-f3f78e6937be>\u001b[0m in \u001b[0;36m<cell line: 3>\u001b[0;34m()\u001b[0m\n\u001b[1;32m      1\u001b[0m \u001b[0;31m# squares\u001b[0m\u001b[0;34m\u001b[0m\u001b[0;34m\u001b[0m\u001b[0m\n\u001b[1;32m      2\u001b[0m \u001b[0mn\u001b[0m \u001b[0;34m=\u001b[0m \u001b[0minput\u001b[0m\u001b[0;34m(\u001b[0m\u001b[0;34m\"a,d,c =\"\u001b[0m\u001b[0;34m)\u001b[0m\u001b[0;34m\u001b[0m\u001b[0;34m\u001b[0m\u001b[0m\n\u001b[0;32m----> 3\u001b[0;31m \u001b[0;32mwhile\u001b[0m \u001b[0mn\u001b[0m\u001b[0;34m**\u001b[0m\u001b[0;36m2\u001b[0m\u001b[0;34m==\u001b[0m\u001b[0;36m0\u001b[0m\u001b[0;34m:\u001b[0m\u001b[0;34m\u001b[0m\u001b[0;34m\u001b[0m\u001b[0m\n\u001b[0m\u001b[1;32m      4\u001b[0m   \u001b[0mprint\u001b[0m\u001b[0;34m(\u001b[0m\u001b[0mn\u001b[0m\u001b[0;34m)\u001b[0m\u001b[0;34m\u001b[0m\u001b[0;34m\u001b[0m\u001b[0m\n",
            "\u001b[0;31mTypeError\u001b[0m: unsupported operand type(s) for ** or pow(): 'str' and 'int'"
          ]
        }
      ]
    },
    {
      "cell_type": "code",
      "source": [
        "list_fruits = [\"Apple\",\"Banana\",\"pineapple\",\"mango\",\"kiwi\"]\n",
        "list = []\n",
        "for x in  list_fruits:\n",
        "    if \"a\" in x:\n",
        "        list.append(x)\n",
        "print(list)"
      ],
      "metadata": {
        "id": "ruLkDYwkmicp",
        "colab": {
          "base_uri": "https://localhost:8080/"
        },
        "outputId": "57e06ecf-943c-47b3-b538-d0847c7d8642"
      },
      "execution_count": null,
      "outputs": [
        {
          "output_type": "stream",
          "name": "stdout",
          "text": [
            "['Banana', 'pineapple', 'mango']\n"
          ]
        }
      ]
    },
    {
      "cell_type": "code",
      "source": [
        "class student:\n",
        "  def __init__(self,name,age,gender):\n",
        "    self.name = name\n",
        "    self.age = age\n",
        "    self.gender = gender\n",
        "\n",
        "v1 = student(\"lokesh\",23,\"m\")\n",
        "v2 = student(\"sri\",21,\"f\")\n",
        "print(v1.name,v1.age)\n",
        "print(v2.gender)"
      ],
      "metadata": {
        "id": "LjxQ8wDwMALw",
        "colab": {
          "base_uri": "https://localhost:8080/"
        },
        "outputId": "9b40a4a6-cef0-4d78-aea0-30101a835b19"
      },
      "execution_count": null,
      "outputs": [
        {
          "output_type": "stream",
          "name": "stdout",
          "text": [
            "lokesh 23\n",
            "f\n"
          ]
        }
      ]
    }
  ]
}